{
  "cells": [
    {
      "cell_type": "markdown",
      "metadata": {
        "id": "view-in-github",
        "colab_type": "text"
      },
      "source": [
        "<a href=\"https://colab.research.google.com/github/rawatkarankr99/Capstone-Project---3/blob/main/Individual_Notebook_Capstone_Project_3(Email_Campaign_Effectiveness_Prediction).ipynb\" target=\"_parent\"><img src=\"https://colab.research.google.com/assets/colab-badge.svg\" alt=\"Open In Colab\"/></a>"
      ]
    },
    {
      "cell_type": "markdown",
      "metadata": {
        "id": "KskobK4sgsCY"
      },
      "source": [
        "# <b><u> Project Title :  </u></b>"
      ]
    },
    {
      "cell_type": "markdown",
      "metadata": {
        "id": "GPuZDip0g7mO"
      },
      "source": [
        "## <b> Problem Description </b>\n",
        "\n",
        "### Most of the small to medium business owners are making effective use of Gmail-based Email Marketing Strategies for offline targeting of converting their prospective customers into leads so that they stay with them in Business. The main objective is to create a machine learning model to characterize the mail that is ignored ; read ; acknowledged by the reader."
      ]
    },
    {
      "cell_type": "markdown",
      "metadata": {
        "id": "ZsJNwFkthbmv"
      },
      "source": [
        "## <b> Data Description </b>"
      ]
    },
    {
      "cell_type": "markdown",
      "metadata": {
        "id": "FRsh1zachi7t"
      },
      "source": [
        "## **Mounting the drive**"
      ]
    },
    {
      "cell_type": "code",
      "execution_count": null,
      "metadata": {
        "colab": {
          "base_uri": "https://localhost:8080/"
        },
        "id": "W7BJKUt8hpew",
        "outputId": "3a848e1e-2858-481e-a2f1-85852ad236bd"
      },
      "outputs": [
        {
          "output_type": "stream",
          "name": "stdout",
          "text": [
            "Drive already mounted at /content/drive; to attempt to forcibly remount, call drive.mount(\"/content/drive\", force_remount=True).\n"
          ]
        }
      ],
      "source": [
        "from google.colab import drive\n",
        "drive.mount('/content/drive')"
      ]
    },
    {
      "cell_type": "markdown",
      "metadata": {
        "id": "Fly1Zzpwh6KD"
      },
      "source": [
        "## **Importing Necessary Libraries**"
      ]
    },
    {
      "cell_type": "code",
      "execution_count": null,
      "metadata": {
        "id": "aUxDKz9WiDUA"
      },
      "outputs": [],
      "source": [
        "# Importing Necessary Libraries.\n",
        "\n",
        "# For Data Reading and Manipulation -- pandas and numpy.\n",
        "import pandas as pd\n",
        "import numpy as np\n",
        "\n",
        "# For Data Visualization -- matplotlib.pyplot and seaborn.\n",
        "import matplotlib.pyplot as plt\n",
        "import seaborn as sns\n",
        "\n",
        "# For checking multicollinearity -- variance_inflation_factor.\n",
        "from statsmodels.stats.outliers_influence import variance_inflation_factor\n",
        "\n",
        "# For Data Preprocessing.\n",
        "## To transform numerical features -- PowerTransformer.\n",
        "from sklearn.preprocessing import PowerTransformer\n",
        "## To normalize numerical features -- MinMaxScaler.\n",
        "from sklearn.preprocessing import MinMaxScaler\n",
        "## To transform categorical Features -- OneHotEncoder.\n",
        "from sklearn.preprocessing import OneHotEncoder\n",
        "## To impute missing numerical values -- IterativeImputer.\n",
        "from sklearn.experimental import enable_iterative_imputer\n",
        "from sklearn.impute import IterativeImputer\n",
        "## To impute missing categorical values -- SimpleImputer.\n",
        "from sklearn.impute import SimpleImputer\n",
        "\n",
        "# Data Splitting -- train_test_split.\n",
        "from sklearn.model_selection import train_test_split\n",
        "\n",
        "# HyperParameter tuning -- GridSearchCV.\n",
        "from sklearn.model_selection import GridSearchCV\n",
        "\n",
        "# Models -- Linear and Non Linear.\n",
        "from sklearn.linear_model import LogisticRegression\n",
        "from sklearn.naive_bayes import GaussianNB\n",
        "from sklearn.tree import DecisionTreeClassifier\n",
        "from sklearn.ensemble import RandomForestClassifier\n",
        "from xgboost import XGBClassifier\n",
        "\n",
        "# Feature Engineering -- adding polynomials using PolynomialFeatures\n",
        "from sklearn.preprocessing import PolynomialFeatures\n",
        "\n",
        "# Metrics for checking performance -- precision,recall,f1 and roc_auc scores.\n",
        "from sklearn.metrics import confusion_matrix,ConfusionMatrixDisplay,precision_score,recall_score,f1_score,roc_auc_score\n",
        "\n",
        "# To neglect warnings -- warnings.\n",
        "import warnings\n",
        "warnings.filterwarnings(\"ignore\")"
      ]
    },
    {
      "cell_type": "markdown",
      "metadata": {
        "id": "obgWzA08jHR2"
      },
      "source": [
        "## **Reading the Data**"
      ]
    },
    {
      "cell_type": "code",
      "execution_count": null,
      "metadata": {
        "id": "JwNx3N8VjNzk"
      },
      "outputs": [],
      "source": [
        "# Importing the dataset.\n",
        "original_data=pd.read_csv('/content/drive/MyDrive/Alma Better/Modules/Capstone Projects/Classification/data_email_campaign.csv')"
      ]
    },
    {
      "cell_type": "code",
      "execution_count": null,
      "metadata": {
        "colab": {
          "base_uri": "https://localhost:8080/"
        },
        "id": "xYn-8nvAkIzt",
        "outputId": "5d1faa9c-7246-4dd9-bcc4-dfc555687b8e"
      },
      "outputs": [
        {
          "output_type": "stream",
          "name": "stdout",
          "text": [
            "<class 'pandas.core.frame.DataFrame'>\n",
            "RangeIndex: 68353 entries, 0 to 68352\n",
            "Data columns (total 12 columns):\n",
            " #   Column                     Non-Null Count  Dtype  \n",
            "---  ------                     --------------  -----  \n",
            " 0   Email_ID                   68353 non-null  object \n",
            " 1   Email_Type                 68353 non-null  int64  \n",
            " 2   Subject_Hotness_Score      68353 non-null  float64\n",
            " 3   Email_Source_Type          68353 non-null  int64  \n",
            " 4   Customer_Location          56758 non-null  object \n",
            " 5   Email_Campaign_Type        68353 non-null  int64  \n",
            " 6   Total_Past_Communications  61528 non-null  float64\n",
            " 7   Time_Email_sent_Category   68353 non-null  int64  \n",
            " 8   Word_Count                 68353 non-null  int64  \n",
            " 9   Total_Links                66152 non-null  float64\n",
            " 10  Total_Images               66676 non-null  float64\n",
            " 11  Email_Status               68353 non-null  int64  \n",
            "dtypes: float64(4), int64(6), object(2)\n",
            "memory usage: 6.3+ MB\n"
          ]
        }
      ],
      "source": [
        "# Checking dataset information.\n",
        "original_data.info()"
      ]
    },
    {
      "cell_type": "code",
      "execution_count": null,
      "metadata": {
        "colab": {
          "base_uri": "https://localhost:8080/"
        },
        "id": "Ke2TrpLBeDdA",
        "outputId": "a8e936a4-405d-4670-c139-bc0ecf323a91"
      },
      "outputs": [
        {
          "output_type": "execute_result",
          "data": {
            "text/plain": [
              "            Email_ID  Email_Type  Subject_Hotness_Score  Email_Source_Type  \\\n",
              "0  EMA00081000034500           1                    2.2                  2   \n",
              "1  EMA00081000045360           2                    2.1                  1   \n",
              "2  EMA00081000066290           2                    0.1                  1   \n",
              "3  EMA00081000076560           1                    3.0                  2   \n",
              "4  EMA00081000109720           1                    0.0                  2   \n",
              "\n",
              "  Customer_Location  Email_Campaign_Type  Total_Past_Communications  \\\n",
              "0                 E                    2                       33.0   \n",
              "1               NaN                    2                       15.0   \n",
              "2                 B                    3                       36.0   \n",
              "3                 E                    2                       25.0   \n",
              "4                 C                    3                       18.0   \n",
              "\n",
              "   Time_Email_sent_Category  Word_Count  Total_Links  Total_Images  \\\n",
              "0                         1         440          8.0           0.0   \n",
              "1                         2         504          5.0           0.0   \n",
              "2                         2         962          5.0           0.0   \n",
              "3                         2         610         16.0           0.0   \n",
              "4                         2         947          4.0           0.0   \n",
              "\n",
              "   Email_Status  \n",
              "0             0  \n",
              "1             0  \n",
              "2             1  \n",
              "3             0  \n",
              "4             0  "
            ],
            "text/html": [
              "\n",
              "  <div id=\"df-db0e6f0b-c61e-4b85-a3d8-ffce1e910ac0\">\n",
              "    <div class=\"colab-df-container\">\n",
              "      <div>\n",
              "<style scoped>\n",
              "    .dataframe tbody tr th:only-of-type {\n",
              "        vertical-align: middle;\n",
              "    }\n",
              "\n",
              "    .dataframe tbody tr th {\n",
              "        vertical-align: top;\n",
              "    }\n",
              "\n",
              "    .dataframe thead th {\n",
              "        text-align: right;\n",
              "    }\n",
              "</style>\n",
              "<table border=\"1\" class=\"dataframe\">\n",
              "  <thead>\n",
              "    <tr style=\"text-align: right;\">\n",
              "      <th></th>\n",
              "      <th>Email_ID</th>\n",
              "      <th>Email_Type</th>\n",
              "      <th>Subject_Hotness_Score</th>\n",
              "      <th>Email_Source_Type</th>\n",
              "      <th>Customer_Location</th>\n",
              "      <th>Email_Campaign_Type</th>\n",
              "      <th>Total_Past_Communications</th>\n",
              "      <th>Time_Email_sent_Category</th>\n",
              "      <th>Word_Count</th>\n",
              "      <th>Total_Links</th>\n",
              "      <th>Total_Images</th>\n",
              "      <th>Email_Status</th>\n",
              "    </tr>\n",
              "  </thead>\n",
              "  <tbody>\n",
              "    <tr>\n",
              "      <th>0</th>\n",
              "      <td>EMA00081000034500</td>\n",
              "      <td>1</td>\n",
              "      <td>2.2</td>\n",
              "      <td>2</td>\n",
              "      <td>E</td>\n",
              "      <td>2</td>\n",
              "      <td>33.0</td>\n",
              "      <td>1</td>\n",
              "      <td>440</td>\n",
              "      <td>8.0</td>\n",
              "      <td>0.0</td>\n",
              "      <td>0</td>\n",
              "    </tr>\n",
              "    <tr>\n",
              "      <th>1</th>\n",
              "      <td>EMA00081000045360</td>\n",
              "      <td>2</td>\n",
              "      <td>2.1</td>\n",
              "      <td>1</td>\n",
              "      <td>NaN</td>\n",
              "      <td>2</td>\n",
              "      <td>15.0</td>\n",
              "      <td>2</td>\n",
              "      <td>504</td>\n",
              "      <td>5.0</td>\n",
              "      <td>0.0</td>\n",
              "      <td>0</td>\n",
              "    </tr>\n",
              "    <tr>\n",
              "      <th>2</th>\n",
              "      <td>EMA00081000066290</td>\n",
              "      <td>2</td>\n",
              "      <td>0.1</td>\n",
              "      <td>1</td>\n",
              "      <td>B</td>\n",
              "      <td>3</td>\n",
              "      <td>36.0</td>\n",
              "      <td>2</td>\n",
              "      <td>962</td>\n",
              "      <td>5.0</td>\n",
              "      <td>0.0</td>\n",
              "      <td>1</td>\n",
              "    </tr>\n",
              "    <tr>\n",
              "      <th>3</th>\n",
              "      <td>EMA00081000076560</td>\n",
              "      <td>1</td>\n",
              "      <td>3.0</td>\n",
              "      <td>2</td>\n",
              "      <td>E</td>\n",
              "      <td>2</td>\n",
              "      <td>25.0</td>\n",
              "      <td>2</td>\n",
              "      <td>610</td>\n",
              "      <td>16.0</td>\n",
              "      <td>0.0</td>\n",
              "      <td>0</td>\n",
              "    </tr>\n",
              "    <tr>\n",
              "      <th>4</th>\n",
              "      <td>EMA00081000109720</td>\n",
              "      <td>1</td>\n",
              "      <td>0.0</td>\n",
              "      <td>2</td>\n",
              "      <td>C</td>\n",
              "      <td>3</td>\n",
              "      <td>18.0</td>\n",
              "      <td>2</td>\n",
              "      <td>947</td>\n",
              "      <td>4.0</td>\n",
              "      <td>0.0</td>\n",
              "      <td>0</td>\n",
              "    </tr>\n",
              "  </tbody>\n",
              "</table>\n",
              "</div>\n",
              "      <button class=\"colab-df-convert\" onclick=\"convertToInteractive('df-db0e6f0b-c61e-4b85-a3d8-ffce1e910ac0')\"\n",
              "              title=\"Convert this dataframe to an interactive table.\"\n",
              "              style=\"display:none;\">\n",
              "        \n",
              "  <svg xmlns=\"http://www.w3.org/2000/svg\" height=\"24px\"viewBox=\"0 0 24 24\"\n",
              "       width=\"24px\">\n",
              "    <path d=\"M0 0h24v24H0V0z\" fill=\"none\"/>\n",
              "    <path d=\"M18.56 5.44l.94 2.06.94-2.06 2.06-.94-2.06-.94-.94-2.06-.94 2.06-2.06.94zm-11 1L8.5 8.5l.94-2.06 2.06-.94-2.06-.94L8.5 2.5l-.94 2.06-2.06.94zm10 10l.94 2.06.94-2.06 2.06-.94-2.06-.94-.94-2.06-.94 2.06-2.06.94z\"/><path d=\"M17.41 7.96l-1.37-1.37c-.4-.4-.92-.59-1.43-.59-.52 0-1.04.2-1.43.59L10.3 9.45l-7.72 7.72c-.78.78-.78 2.05 0 2.83L4 21.41c.39.39.9.59 1.41.59.51 0 1.02-.2 1.41-.59l7.78-7.78 2.81-2.81c.8-.78.8-2.07 0-2.86zM5.41 20L4 18.59l7.72-7.72 1.47 1.35L5.41 20z\"/>\n",
              "  </svg>\n",
              "      </button>\n",
              "      \n",
              "  <style>\n",
              "    .colab-df-container {\n",
              "      display:flex;\n",
              "      flex-wrap:wrap;\n",
              "      gap: 12px;\n",
              "    }\n",
              "\n",
              "    .colab-df-convert {\n",
              "      background-color: #E8F0FE;\n",
              "      border: none;\n",
              "      border-radius: 50%;\n",
              "      cursor: pointer;\n",
              "      display: none;\n",
              "      fill: #1967D2;\n",
              "      height: 32px;\n",
              "      padding: 0 0 0 0;\n",
              "      width: 32px;\n",
              "    }\n",
              "\n",
              "    .colab-df-convert:hover {\n",
              "      background-color: #E2EBFA;\n",
              "      box-shadow: 0px 1px 2px rgba(60, 64, 67, 0.3), 0px 1px 3px 1px rgba(60, 64, 67, 0.15);\n",
              "      fill: #174EA6;\n",
              "    }\n",
              "\n",
              "    [theme=dark] .colab-df-convert {\n",
              "      background-color: #3B4455;\n",
              "      fill: #D2E3FC;\n",
              "    }\n",
              "\n",
              "    [theme=dark] .colab-df-convert:hover {\n",
              "      background-color: #434B5C;\n",
              "      box-shadow: 0px 1px 3px 1px rgba(0, 0, 0, 0.15);\n",
              "      filter: drop-shadow(0px 1px 2px rgba(0, 0, 0, 0.3));\n",
              "      fill: #FFFFFF;\n",
              "    }\n",
              "  </style>\n",
              "\n",
              "      <script>\n",
              "        const buttonEl =\n",
              "          document.querySelector('#df-db0e6f0b-c61e-4b85-a3d8-ffce1e910ac0 button.colab-df-convert');\n",
              "        buttonEl.style.display =\n",
              "          google.colab.kernel.accessAllowed ? 'block' : 'none';\n",
              "\n",
              "        async function convertToInteractive(key) {\n",
              "          const element = document.querySelector('#df-db0e6f0b-c61e-4b85-a3d8-ffce1e910ac0');\n",
              "          const dataTable =\n",
              "            await google.colab.kernel.invokeFunction('convertToInteractive',\n",
              "                                                     [key], {});\n",
              "          if (!dataTable) return;\n",
              "\n",
              "          const docLinkHtml = 'Like what you see? Visit the ' +\n",
              "            '<a target=\"_blank\" href=https://colab.research.google.com/notebooks/data_table.ipynb>data table notebook</a>'\n",
              "            + ' to learn more about interactive tables.';\n",
              "          element.innerHTML = '';\n",
              "          dataTable['output_type'] = 'display_data';\n",
              "          await google.colab.output.renderOutput(dataTable, element);\n",
              "          const docLink = document.createElement('div');\n",
              "          docLink.innerHTML = docLinkHtml;\n",
              "          element.appendChild(docLink);\n",
              "        }\n",
              "      </script>\n",
              "    </div>\n",
              "  </div>\n",
              "  "
            ]
          },
          "metadata": {},
          "execution_count": 5
        }
      ],
      "source": [
        "# Checking the content in the dataset.\n",
        "original_data.head()"
      ]
    },
    {
      "cell_type": "markdown",
      "metadata": {
        "id": "KANkwo1piD7c"
      },
      "source": [
        "**Inference** : \n",
        "\n",
        "*   There are total 12 features out of which the feature \"Email_Status \" is a response variable and rest are predictor variables.\n",
        "*   As we can see, the features \"Email_Type\", \"Email_Source_Type\",  \"Email_Campaign_Type\" and \"Time_Email_sent_Category\" contains categorical values but these features mapped to wrong data type, so surely we have to look upon this.\n",
        "*   The \"Email_ID\" feature contains identity information so we can drop this feature for further procedures.\n"
      ]
    },
    {
      "cell_type": "code",
      "execution_count": null,
      "metadata": {
        "colab": {
          "base_uri": "https://localhost:8080/"
        },
        "id": "kVkKboChj5t7",
        "outputId": "3faef044-d13b-4580-e3b2-24e454b193dd"
      },
      "outputs": [
        {
          "output_type": "execute_result",
          "data": {
            "text/plain": [
              "Email_ID                         0\n",
              "Email_Type                       0\n",
              "Subject_Hotness_Score            0\n",
              "Email_Source_Type                0\n",
              "Customer_Location            11595\n",
              "Email_Campaign_Type              0\n",
              "Total_Past_Communications     6825\n",
              "Time_Email_sent_Category         0\n",
              "Word_Count                       0\n",
              "Total_Links                   2201\n",
              "Total_Images                  1677\n",
              "Email_Status                     0\n",
              "dtype: int64"
            ]
          },
          "metadata": {},
          "execution_count": 6
        }
      ],
      "source": [
        "# Checking null values.\n",
        "original_data.isnull().sum()"
      ]
    },
    {
      "cell_type": "code",
      "execution_count": null,
      "metadata": {
        "colab": {
          "base_uri": "https://localhost:8080/"
        },
        "id": "iF4NCQ8C4-4Y",
        "outputId": "579d2480-252e-4103-bb8b-9eb1618d3890"
      },
      "outputs": [
        {
          "output_type": "display_data",
          "data": {
            "text/plain": [
              "<Figure size 576x576 with 1 Axes>"
            ],
            "image/png": "[encoded data removed]"
          },
          "metadata": {
            "needs_background": "light"
          }
        }
      ],
      "source": [
        "# Using heatmap to visualize missing value.\n",
        "## Setting figure size.\n",
        "plt.figure(figsize=(8,8))\n",
        "sns.heatmap(original_data.isnull(),yticklabels = False,cbar = False,cmap = 'tab20c_r')\n",
        "## Setting title.\n",
        "plt.title('Missing Data')\n",
        "plt.show()"
      ]
    },
    {
      "cell_type": "markdown",
      "metadata": {
        "id": "lFSaZGVhkywq"
      },
      "source": [
        "**Inference** : The features \"Customer_Location\", \"Total_Past_Communications\", \"Total_Links\" and \"Total_Images\" have missing values. We need to take care of these missing values."
      ]
    },
    {
      "cell_type": "code",
      "execution_count": null,
      "metadata": {
        "id": "wr7L8J2Yi_wR"
      },
      "outputs": [],
      "source": [
        "# Let's create a copy of the original dataset so that changes don't reflect in that.\n",
        "data=original_data.copy()"
      ]
    },
    {
      "cell_type": "markdown",
      "metadata": {
        "id": "ZKuWmxUcoQ61"
      },
      "source": [
        "## **Exploratory Data Analysis**"
      ]
    },
    {
      "cell_type": "markdown",
      "metadata": {
        "id": "8_Ol29UdbD-B"
      },
      "source": [
        "### **Response Variable**"
      ]
    },
    {
      "cell_type": "markdown",
      "metadata": {
        "id": "QpczbQWzbPSg"
      },
      "source": [
        "**The response variable is \"Email_Status\".**"
      ]
    },
    {
      "cell_type": "code",
      "execution_count": null,
      "metadata": {
        "colab": {
          "base_uri": "https://localhost:8080/"
        },
        "id": "D9Z1bJ0TiTud",
        "outputId": "597bd256-46fb-402c-9191-0cef3750cf5f"
      },
      "outputs": [
        {
          "output_type": "execute_result",
          "data": {
            "text/plain": [
              "0    54941\n",
              "1    11039\n",
              "2     2373\n",
              "Name: Email_Status, dtype: int64"
            ]
          },
          "metadata": {},
          "execution_count": 9
        }
      ],
      "source": [
        "# Checking distribution of classes in response vaiable.\n",
        "data['Email_Status'].value_counts().sort_index()"
      ]
    },
    {
      "cell_type": "code",
      "execution_count": null,
      "metadata": {
        "colab": {
          "base_uri": "https://localhost:8080/"
        },
        "id": "ziNhxnhAbIYT",
        "outputId": "43e176f1-e060-4fa4-a043-c0768abca5d1"
      },
      "outputs": [
        {
          "output_type": "display_data",
          "data": {
            "text/plain": [
              "<Figure size 432x288 with 1 Axes>"
            ],
            "image/png": "[encoded data removed]"
          },
          "metadata": {
            "needs_background": "light"
          }
        }
      ],
      "source": [
        "# Using countplot fo visualization.\n",
        "ax=sns.countplot(data['Email_Status'],palette='crest')\n",
        "# Marking height percent of each bar at top.\n",
        "for p in ax.patches:\n",
        "  ## Fetching height.\n",
        "  height=p.get_height()\n",
        "  ## Converting to percent for better understanding.\n",
        "  height_percent=str(round(height/len(data['Email_Status'])*100,2)) + ' %'\n",
        "  ## Marking height.\n",
        "  ax.annotate(height_percent,(p.get_x()+0.25, p.get_height()+0.01))\n",
        "plt.show()"
      ]
    },
    {
      "cell_type": "markdown",
      "metadata": {
        "id": "SHBQhXaYezuQ"
      },
      "source": [
        "**Inference** : There is high imbalance in class distribution of response variable. The majority of the data, 54941 data points which is 80.38 % belongs to \"class 0\", 11039 points which is 16.15 % belongs to class \"1\" and very small amount of data, 2373 data points which is 3.47% belongs to \"class 2\". We need to take care of this class imbalancy."
      ]
    },
    {
      "cell_type": "markdown",
      "metadata": {
        "id": "oJuYOuUDoXk_"
      },
      "source": [
        "### **Predictor Variables**"
      ]
    },
    {
      "cell_type": "code",
      "execution_count": null,
      "metadata": {
        "colab": {
          "base_uri": "https://localhost:8080/"
        },
        "id": "aVxepTjBqcCk",
        "outputId": "f111aacf-63fa-47d7-c741-1c14764a61a4"
      },
      "outputs": [
        {
          "output_type": "stream",
          "name": "stdout",
          "text": [
            "1    48866\n",
            "2    19487\n",
            "Name: Email_Type, dtype: int64\n",
            "==============================\n",
            "1    37149\n",
            "2    31204\n",
            "Name: Email_Source_Type, dtype: int64\n",
            "==============================\n",
            "1      736\n",
            "2    48273\n",
            "3    19344\n",
            "Name: Email_Campaign_Type, dtype: int64\n",
            "==============================\n",
            "1    13636\n",
            "2    41129\n",
            "3    13588\n",
            "Name: Time_Email_sent_Category, dtype: int64\n"
          ]
        }
      ],
      "source": [
        "# Checking features \"Email_Type\", \"Email_Source_Type\", \"Email_Campaign_Type\" and \"Time_Email_sent_Category\".\n",
        "print(data['Email_Type'].value_counts().sort_index())\n",
        "print('='*30)\n",
        "print(data['Email_Source_Type'].value_counts().sort_index())\n",
        "print('='*30)\n",
        "print(data['Email_Campaign_Type'].value_counts().sort_index())\n",
        "print('='*30)\n",
        "print(data['Time_Email_sent_Category'].value_counts().sort_index())"
      ]
    },
    {
      "cell_type": "markdown",
      "metadata": {
        "id": "jKIw9wpOsX3R"
      },
      "source": [
        "**Inference** : We can see that the features \"Email_Type\", \"Email_Source_Type\", \"Email_Campaign_Type\" and \"Time_Email_sent_Category\" contains categorical information , so we will change the datatype according to that."
      ]
    },
    {
      "cell_type": "code",
      "execution_count": null,
      "metadata": {
        "id": "KKWM-Yt-spTH"
      },
      "outputs": [],
      "source": [
        "# Mapping the correct datatype of the features \"Email_Type\", \"Email_Source_Type\", \"Email_Campaign_Type\" and \"Time_Email_sent_Category\".\n",
        "\n",
        "features_dtype_to_be_changed=[\"Email_Type\",\"Email_Source_Type\",\"Email_Campaign_Type\",\"Time_Email_sent_Category\"]\n",
        "\n",
        "for feature in features_dtype_to_be_changed:\n",
        "  data[feature]=data[feature].astype('object')"
      ]
    },
    {
      "cell_type": "markdown",
      "metadata": {
        "id": "sfq4wiAMt0nK"
      },
      "source": [
        "**Now all the independent features are ready for exploration. Let's explore them.**"
      ]
    },
    {
      "cell_type": "markdown",
      "metadata": {
        "id": "dvCl8wB5uDt_"
      },
      "source": [
        "**Let's Check Numerical Features**"
      ]
    },
    {
      "cell_type": "code",
      "execution_count": null,
      "metadata": {
        "colab": {
          "base_uri": "https://localhost:8080/"
        },
        "id": "whGN3IzKuIqZ",
        "outputId": "8907e711-8999-4610-94c3-6ee3bfbec9b9"
      },
      "outputs": [
        {
          "output_type": "stream",
          "name": "stdout",
          "text": [
            "['Subject_Hotness_Score', 'Total_Past_Communications', 'Word_Count', 'Total_Links', 'Total_Images', 'Email_Status']\n"
          ]
        }
      ],
      "source": [
        "# Collecting numerical features.\n",
        "total_numerical_features=list(data.describe().columns)\n",
        "print(total_numerical_features)"
      ]
    },
    {
      "cell_type": "markdown",
      "metadata": {
        "id": "tWMO3-WIva-I"
      },
      "source": [
        "**Inference** : The \"Email_Status\" feature is a response variable so we need to neglect it while exploring numerical predictor variables."
      ]
    },
    {
      "cell_type": "code",
      "execution_count": null,
      "metadata": {
        "colab": {
          "base_uri": "https://localhost:8080/"
        },
        "id": "8UJiM7uuwJo7",
        "outputId": "ba86f7bd-dc62-45ff-ca45-f9c88ac7a800"
      },
      "outputs": [
        {
          "output_type": "stream",
          "name": "stdout",
          "text": [
            "['Subject_Hotness_Score', 'Total_Past_Communications', 'Word_Count', 'Total_Links', 'Total_Images']\n",
            "====================================================================================================\n",
            "Total Numerical Features : 5\n"
          ]
        }
      ],
      "source": [
        "# Collecting predictor numerical variables.\n",
        "numerical_features=[feature for feature in total_numerical_features if feature != \"Email_Status\"]\n",
        "print(numerical_features)\n",
        "print('='*100)\n",
        "print('Total Numerical Features :',len(numerical_features))"
      ]
    },
    {
      "cell_type": "code",
      "execution_count": null,
      "metadata": {
        "colab": {
          "base_uri": "https://localhost:8080/"
        },
        "id": "DrkBQdhGIjFp",
        "outputId": "fe4f1800-dfa1-4dd5-dcc7-3b448c67bc2e"
      },
      "outputs": [
        {
          "output_type": "execute_result",
          "data": {
            "text/plain": [
              "                             count        mean         std   min    25%  \\\n",
              "Subject_Hotness_Score      68353.0    1.095481    0.997578   0.0    0.2   \n",
              "Total_Past_Communications  61528.0   28.933250   12.536518   0.0   20.0   \n",
              "Word_Count                 68353.0  699.931751  271.719440  40.0  521.0   \n",
              "Total_Links                66152.0   10.429526    6.383270   1.0    6.0   \n",
              "Total_Images               66676.0    3.550678    5.596983   0.0    0.0   \n",
              "\n",
              "                             50%    75%     max  \n",
              "Subject_Hotness_Score        0.8    1.8     5.0  \n",
              "Total_Past_Communications   28.0   38.0    67.0  \n",
              "Word_Count                 694.0  880.0  1316.0  \n",
              "Total_Links                  9.0   14.0    49.0  \n",
              "Total_Images                 0.0    5.0    45.0  "
            ],
            "text/html": [
              "\n",
              "  <div id=\"df-df9fe2db-13a6-44da-ae6e-42664d9624bf\">\n",
              "    <div class=\"colab-df-container\">\n",
              "      <div>\n",
              "<style scoped>\n",
              "    .dataframe tbody tr th:only-of-type {\n",
              "        vertical-align: middle;\n",
              "    }\n",
              "\n",
              "    .dataframe tbody tr th {\n",
              "        vertical-align: top;\n",
              "    }\n",
              "\n",
              "    .dataframe thead th {\n",
              "        text-align: right;\n",
              "    }\n",
              "</style>\n",
              "<table border=\"1\" class=\"dataframe\">\n",
              "  <thead>\n",
              "    <tr style=\"text-align: right;\">\n",
              "      <th></th>\n",
              "      <th>count</th>\n",
              "      <th>mean</th>\n",
              "      <th>std</th>\n",
              "      <th>min</th>\n",
              "      <th>25%</th>\n",
              "      <th>50%</th>\n",
              "      <th>75%</th>\n",
              "      <th>max</th>\n",
              "    </tr>\n",
              "  </thead>\n",
              "  <tbody>\n",
              "    <tr>\n",
              "      <th>Subject_Hotness_Score</th>\n",
              "      <td>68353.0</td>\n",
              "      <td>1.095481</td>\n",
              "      <td>0.997578</td>\n",
              "      <td>0.0</td>\n",
              "      <td>0.2</td>\n",
              "      <td>0.8</td>\n",
              "      <td>1.8</td>\n",
              "      <td>5.0</td>\n",
              "    </tr>\n",
              "    <tr>\n",
              "      <th>Total_Past_Communications</th>\n",
              "      <td>61528.0</td>\n",
              "      <td>28.933250</td>\n",
              "      <td>12.536518</td>\n",
              "      <td>0.0</td>\n",
              "      <td>20.0</td>\n",
              "      <td>28.0</td>\n",
              "      <td>38.0</td>\n",
              "      <td>67.0</td>\n",
              "    </tr>\n",
              "    <tr>\n",
              "      <th>Word_Count</th>\n",
              "      <td>68353.0</td>\n",
              "      <td>699.931751</td>\n",
              "      <td>271.719440</td>\n",
              "      <td>40.0</td>\n",
              "      <td>521.0</td>\n",
              "      <td>694.0</td>\n",
              "      <td>880.0</td>\n",
              "      <td>1316.0</td>\n",
              "    </tr>\n",
              "    <tr>\n",
              "      <th>Total_Links</th>\n",
              "      <td>66152.0</td>\n",
              "      <td>10.429526</td>\n",
              "      <td>6.383270</td>\n",
              "      <td>1.0</td>\n",
              "      <td>6.0</td>\n",
              "      <td>9.0</td>\n",
              "      <td>14.0</td>\n",
              "      <td>49.0</td>\n",
              "    </tr>\n",
              "    <tr>\n",
              "      <th>Total_Images</th>\n",
              "      <td>66676.0</td>\n",
              "      <td>3.550678</td>\n",
              "      <td>5.596983</td>\n",
              "      <td>0.0</td>\n",
              "      <td>0.0</td>\n",
              "      <td>0.0</td>\n",
              "      <td>5.0</td>\n",
              "      <td>45.0</td>\n",
              "    </tr>\n",
              "  </tbody>\n",
              "</table>\n",
              "</div>\n",
              "      <button class=\"colab-df-convert\" onclick=\"convertToInteractive('df-df9fe2db-13a6-44da-ae6e-42664d9624bf')\"\n",
              "              title=\"Convert this dataframe to an interactive table.\"\n",
              "              style=\"display:none;\">\n",
              "        \n",
              "  <svg xmlns=\"http://www.w3.org/2000/svg\" height=\"24px\"viewBox=\"0 0 24 24\"\n",
              "       width=\"24px\">\n",
              "    <path d=\"M0 0h24v24H0V0z\" fill=\"none\"/>\n",
              "    <path d=\"M18.56 5.44l.94 2.06.94-2.06 2.06-.94-2.06-.94-.94-2.06-.94 2.06-2.06.94zm-11 1L8.5 8.5l.94-2.06 2.06-.94-2.06-.94L8.5 2.5l-.94 2.06-2.06.94zm10 10l.94 2.06.94-2.06 2.06-.94-2.06-.94-.94-2.06-.94 2.06-2.06.94z\"/><path d=\"M17.41 7.96l-1.37-1.37c-.4-.4-.92-.59-1.43-.59-.52 0-1.04.2-1.43.59L10.3 9.45l-7.72 7.72c-.78.78-.78 2.05 0 2.83L4 21.41c.39.39.9.59 1.41.59.51 0 1.02-.2 1.41-.59l7.78-7.78 2.81-2.81c.8-.78.8-2.07 0-2.86zM5.41 20L4 18.59l7.72-7.72 1.47 1.35L5.41 20z\"/>\n",
              "  </svg>\n",
              "      </button>\n",
              "      \n",
              "  <style>\n",
              "    .colab-df-container {\n",
              "      display:flex;\n",
              "      flex-wrap:wrap;\n",
              "      gap: 12px;\n",
              "    }\n",
              "\n",
              "    .colab-df-convert {\n",
              "      background-color: #E8F0FE;\n",
              "      border: none;\n",
              "      border-radius: 50%;\n",
              "      cursor: pointer;\n",
              "      display: none;\n",
              "      fill: #1967D2;\n",
              "      height: 32px;\n",
              "      padding: 0 0 0 0;\n",
              "      width: 32px;\n",
              "    }\n",
              "\n",
              "    .colab-df-convert:hover {\n",
              "      background-color: #E2EBFA;\n",
              "      box-shadow: 0px 1px 2px rgba(60, 64, 67, 0.3), 0px 1px 3px 1px rgba(60, 64, 67, 0.15);\n",
              "      fill: #174EA6;\n",
              "    }\n",
              "\n",
              "    [theme=dark] .colab-df-convert {\n",
              "      background-color: #3B4455;\n",
              "      fill: #D2E3FC;\n",
              "    }\n",
              "\n",
              "    [theme=dark] .colab-df-convert:hover {\n",
              "      background-color: #434B5C;\n",
              "      box-shadow: 0px 1px 3px 1px rgba(0, 0, 0, 0.15);\n",
              "      filter: drop-shadow(0px 1px 2px rgba(0, 0, 0, 0.3));\n",
              "      fill: #FFFFFF;\n",
              "    }\n",
              "  </style>\n",
              "\n",
              "      <script>\n",
              "        const buttonEl =\n",
              "          document.querySelector('#df-df9fe2db-13a6-44da-ae6e-42664d9624bf button.colab-df-convert');\n",
              "        buttonEl.style.display =\n",
              "          google.colab.kernel.accessAllowed ? 'block' : 'none';\n",
              "\n",
              "        async function convertToInteractive(key) {\n",
              "          const element = document.querySelector('#df-df9fe2db-13a6-44da-ae6e-42664d9624bf');\n",
              "          const dataTable =\n",
              "            await google.colab.kernel.invokeFunction('convertToInteractive',\n",
              "                                                     [key], {});\n",
              "          if (!dataTable) return;\n",
              "\n",
              "          const docLinkHtml = 'Like what you see? Visit the ' +\n",
              "            '<a target=\"_blank\" href=https://colab.research.google.com/notebooks/data_table.ipynb>data table notebook</a>'\n",
              "            + ' to learn more about interactive tables.';\n",
              "          element.innerHTML = '';\n",
              "          dataTable['output_type'] = 'display_data';\n",
              "          await google.colab.output.renderOutput(dataTable, element);\n",
              "          const docLink = document.createElement('div');\n",
              "          docLink.innerHTML = docLinkHtml;\n",
              "          element.appendChild(docLink);\n",
              "        }\n",
              "      </script>\n",
              "    </div>\n",
              "  </div>\n",
              "  "
            ]
          },
          "metadata": {},
          "execution_count": 15
        }
      ],
      "source": [
        "# Checking descriptive information.\n",
        "data[numerical_features].describe().transpose()"
      ]
    },
    {
      "cell_type": "markdown",
      "source": [
        "**Inference** : For the features \"Total_Past_Communications\" and \"Word_Count\" min and max lies under the range of \"mean + 3* std. deviation\" and for the rest max value fall out of this range."
      ],
      "metadata": {
        "id": "b3eKx3tAxqk2"
      }
    },
    {
      "cell_type": "markdown",
      "metadata": {
        "id": "sVI5UJFnzEMy"
      },
      "source": [
        "**Visualizing Numerical Features**"
      ]
    },
    {
      "cell_type": "code",
      "execution_count": null,
      "metadata": {
        "colab": {
          "base_uri": "https://localhost:8080/"
        },
        "id": "85lwaOvzzCbR",
        "outputId": "8efe6814-b003-49d9-8864-952583d4bad0"
      },
      "outputs": [
        {
          "output_type": "display_data",
          "data": {
            "text/plain": [
              "<Figure size 1152x576 with 5 Axes>"
            ],
            "image/png": "[encoded data removed]"
          },
          "metadata": {
            "needs_background": "light"
          }
        }
      ],
      "source": [
        "# Using Histogram for the features.\n",
        "n=1\n",
        "plt.figure(figsize=(16,8))\n",
        "for col in numerical_features:\n",
        "  feature=data[col]\n",
        "  # Using Subplots.\n",
        "  plt.subplot(2,3,n)\n",
        "  plt.hist(feature)\n",
        "  # Marking mean and median line in the plot.\n",
        "  plt.axvline(feature.mean(), color='magenta', linestyle='dashed', linewidth=2)\n",
        "  plt.axvline(feature.median(), color='cyan', linestyle='dashed', linewidth=2)\n",
        "  # Setting title.    \n",
        "  plt.title(col)\n",
        "  n+=1\n",
        "plt.show()"
      ]
    },
    {
      "cell_type": "markdown",
      "metadata": {
        "id": "y8JU-ccFimCj"
      },
      "source": [
        "**Inference** : \n",
        "\n",
        "*   The mean and median for all the features except 'Word_Count' differs so surely these features contains outliers.\n",
        "*   The features 'Total_Past_Communications' and 'Word_Count' are distributed with good variance.\n",
        "\n"
      ]
    },
    {
      "cell_type": "code",
      "execution_count": null,
      "metadata": {
        "colab": {
          "base_uri": "https://localhost:8080/"
        },
        "id": "AxKeHb1i6knH",
        "outputId": "c8d40d4c-dbc2-4291-b467-02df6eea5f56"
      },
      "outputs": [
        {
          "output_type": "display_data",
          "data": {
            "text/plain": [
              "<Figure size 1296x576 with 5 Axes>"
            ],
            "image/png": "[encoded data removed]"
          },
          "metadata": {
            "needs_background": "light"
          }
        }
      ],
      "source": [
        "# Using Distribution plots\n",
        "n=1\n",
        "plt.figure(figsize=(18,8))\n",
        "for col in numerical_features:\n",
        "  feature = data[col]\n",
        "  # Using subplots.\n",
        "  plt.subplot(2,3,n)\n",
        "  sns.distplot(feature)\n",
        "  n+=1\n",
        "plt.show()"
      ]
    },
    {
      "cell_type": "markdown",
      "metadata": {
        "id": "r51pnJsEHthL"
      },
      "source": [
        "**Inference** : The features 'Subject_Hotness_Score','Total_Links' and  'Total_Images' are postively skewed."
      ]
    },
    {
      "cell_type": "markdown",
      "metadata": {
        "id": "pPyDZdJOH6g-"
      },
      "source": [
        "**Let's try to remove skewness from skewed features.**"
      ]
    },
    {
      "cell_type": "code",
      "execution_count": null,
      "metadata": {
        "id": "rIv36j_0C_nr"
      },
      "outputs": [],
      "source": [
        "# Collecting Skewed features.\n",
        "skewed_features=['Subject_Hotness_Score','Total_Links','Total_Images']"
      ]
    },
    {
      "cell_type": "code",
      "execution_count": null,
      "metadata": {
        "colab": {
          "base_uri": "https://localhost:8080/"
        },
        "id": "AayRlPpFDXDu",
        "outputId": "33655806-bb0f-4f9f-bb26-ab101ba6f16a"
      },
      "outputs": [
        {
          "output_type": "display_data",
          "data": {
            "text/plain": [
              "<Figure size 1008x288 with 3 Axes>"
            ],
            "image/png": "[encoded data removed]"
          },
          "metadata": {
            "needs_background": "light"
          }
        }
      ],
      "source": [
        "# Taking Log Transformation.\n",
        "n=1\n",
        "plt.figure(figsize=(14,4))\n",
        "for col in skewed_features:\n",
        "  feature = np.log10(data[col]+0.01)\n",
        "  # Using subplots.\n",
        "  plt.subplot(1,3,n)\n",
        "  sns.distplot(feature)\n",
        "  n+=1\n",
        "plt.show()"
      ]
    },
    {
      "cell_type": "code",
      "execution_count": null,
      "metadata": {
        "colab": {
          "base_uri": "https://localhost:8080/"
        },
        "id": "LNXcZFAuFx2u",
        "outputId": "0e274f6e-6230-484c-db8c-b015caaa307d"
      },
      "outputs": [
        {
          "output_type": "display_data",
          "data": {
            "text/plain": [
              "<Figure size 1008x288 with 3 Axes>"
            ],
            "image/png": "[encoded data removed]"
          },
          "metadata": {
            "needs_background": "light"
          }
        }
      ],
      "source": [
        "# Taking Square Root Transformation.\n",
        "n=1\n",
        "plt.figure(figsize=(14,4))\n",
        "for col in skewed_features:\n",
        "  feature = np.sqrt(data[col])\n",
        "  # Using subplots.\n",
        "  plt.subplot(1,3,n)\n",
        "  sns.distplot(feature)\n",
        "  n+=1\n",
        "plt.show()"
      ]
    },
    {
      "cell_type": "code",
      "execution_count": null,
      "metadata": {
        "colab": {
          "base_uri": "https://localhost:8080/"
        },
        "id": "j6lHsiy5Gpht",
        "outputId": "bcb7627b-90da-41c8-baaf-63dda1a876ce"
      },
      "outputs": [
        {
          "output_type": "display_data",
          "data": {
            "text/plain": [
              "<Figure size 1008x288 with 3 Axes>"
            ],
            "image/png": "[encoded data removed]"
          },
          "metadata": {
            "needs_background": "light"
          }
        }
      ],
      "source": [
        "# Taking Cube Root Transformation.\n",
        "n=1\n",
        "plt.figure(figsize=(14,4))\n",
        "for col in skewed_features:\n",
        "  feature = np.cbrt(data[col])\n",
        "  # Using subplots.\n",
        "  plt.subplot(1,3,n)\n",
        "  sns.distplot(feature)\n",
        "  n+=1\n",
        "plt.show()"
      ]
    },
    {
      "cell_type": "code",
      "execution_count": null,
      "metadata": {
        "colab": {
          "base_uri": "https://localhost:8080/"
        },
        "id": "oOyRJ34w_89Z",
        "outputId": "a71ae726-b9c9-4b22-ba71-a2e3de08e67c"
      },
      "outputs": [
        {
          "output_type": "display_data",
          "data": {
            "text/plain": [
              "<Figure size 1008x288 with 3 Axes>"
            ],
            "image/png": "[encoded data removed]"
          },
          "metadata": {
            "needs_background": "light"
          }
        }
      ],
      "source": [
        "# Using Power Transformation.\n",
        "n=1\n",
        "plt.figure(figsize=(14,4))\n",
        "for col in skewed_features:\n",
        "  pt = PowerTransformer(method='yeo-johnson',standardize=True)\n",
        "  # Reshaping the feature to 2d array so that transformation can happen easily.\n",
        "  feature = pt.fit_transform(np.array(data[col]).reshape(-1,1))\n",
        "  # Using subplots.\n",
        "  plt.subplot(1,3,n)\n",
        "  sns.distplot(feature).set_title(col)\n",
        "  n+=1\n",
        "plt.show()"
      ]
    },
    {
      "cell_type": "markdown",
      "metadata": {
        "id": "zSWjGA-EG7UP"
      },
      "source": [
        "**Inference** : The Log, Square Root and Cube Root transformations used are able to remove the skewness , but Power transformation removed skewness outstandigly and also it standardize the data as well. Hence, we will use power transformation for the all numerical features which are skewed and non-skewed as it removes the skewness and standardize the features as well."
      ]
    },
    {
      "cell_type": "markdown",
      "metadata": {
        "id": "3x5J2vLRV4AV"
      },
      "source": [
        "**Let's Check for Outliers.**"
      ]
    },
    {
      "cell_type": "code",
      "execution_count": null,
      "metadata": {
        "colab": {
          "base_uri": "https://localhost:8080/"
        },
        "id": "tjjPGIXVBrHs",
        "outputId": "2a42906a-2b69-473e-d1b6-f49f38cd8930"
      },
      "outputs": [
        {
          "output_type": "display_data",
          "data": {
            "text/plain": [
              "<Figure size 1152x576 with 5 Axes>"
            ],
            "image/png": "[encoded data removed]"
          },
          "metadata": {
            "needs_background": "light"
          }
        }
      ],
      "source": [
        "# Checking for Outliers using Box Plots.\n",
        "# Plotting Boxplot of each feature against response variable.\n",
        "n=1\n",
        "## Setting figuresize.\n",
        "plt.figure(figsize=(16,8))\n",
        "for col in numerical_features:\n",
        "  feature = data[col]\n",
        "  # Using subplots.\n",
        "  plt.subplot(2,3,n)\n",
        "  sns.boxplot(y=data['Email_Status'].astype('category'),x=feature,palette=\"crest\")\n",
        "  n+=1\n",
        "plt.show()"
      ]
    },
    {
      "cell_type": "markdown",
      "metadata": {
        "id": "72sttneyxBC9"
      },
      "source": [
        "**Inference** : All the numerical features except 'Word_Count' contains outliers. So we need to take care of these outliers."
      ]
    },
    {
      "cell_type": "markdown",
      "metadata": {
        "id": "jp5AvZhar7Dx"
      },
      "source": [
        "**Let's Check Correlation among Numerical Features.**"
      ]
    },
    {
      "cell_type": "code",
      "execution_count": null,
      "metadata": {
        "colab": {
          "base_uri": "https://localhost:8080/"
        },
        "id": "WeuDzEby9o2X",
        "outputId": "5d9732bf-373f-405f-d666-0203876c9140"
      },
      "outputs": [
        {
          "output_type": "display_data",
          "data": {
            "text/plain": [
              "<Figure size 576x288 with 2 Axes>"
            ],
            "image/png": "[encoded data removed]"
          },
          "metadata": {
            "needs_background": "light"
          }
        }
      ],
      "source": [
        "# Using heatmap for visualization.\n",
        "## Setting figursize.\n",
        "plt.figure(figsize=(8,4))\n",
        "## Calculating correlation among numerical features.\n",
        "correlation = data[numerical_features].corr()\n",
        "sns.heatmap(abs(correlation), annot=True, cmap='coolwarm')\n",
        "plt.show()"
      ]
    },
    {
      "cell_type": "markdown",
      "metadata": {
        "id": "e8CEoaWGvLZa"
      },
      "source": [
        "**Inference** : The features \"Total_Images\" and \"Total_Links\" are highly correlated with correlation value as 0.78."
      ]
    },
    {
      "cell_type": "code",
      "execution_count": null,
      "metadata": {
        "id": "i9Samj1-vzYv"
      },
      "outputs": [],
      "source": [
        "# Multicollinearity\n",
        "# Let's check VIF values.\n",
        "from statsmodels.stats.outliers_influence import variance_inflation_factor\n",
        "def calc_vif(X):\n",
        "  # removing missing values before calculating VIF values to not get error.\n",
        "  X=X.dropna()\n",
        "  # Calculating VIF\n",
        "  vif = pd.DataFrame()\n",
        "  vif[\"Variables\"] = X.columns\n",
        "  vif[\"VIF\"] = [variance_inflation_factor(X.values, i) for i in range(X.shape[1])]\n",
        "\n",
        "  return(vif)"
      ]
    },
    {
      "cell_type": "code",
      "execution_count": null,
      "metadata": {
        "colab": {
          "base_uri": "https://localhost:8080/"
        },
        "id": "kY4H37oDwAZW",
        "outputId": "8e3d7c90-2dc9-44fb-db25-1d02c888ee65"
      },
      "outputs": [
        {
          "output_type": "execute_result",
          "data": {
            "text/plain": [
              "                   Variables       VIF\n",
              "0      Subject_Hotness_Score  1.812747\n",
              "1  Total_Past_Communications  3.764936\n",
              "2                 Word_Count  3.992614\n",
              "3                Total_Links  9.525929\n",
              "4               Total_Images  3.574892"
            ],
            "text/html": [
              "\n",
              "  <div id=\"df-74b3aa72-3bc4-4723-98b7-335b7573a842\">\n",
              "    <div class=\"colab-df-container\">\n",
              "      <div>\n",
              "<style scoped>\n",
              "    .dataframe tbody tr th:only-of-type {\n",
              "        vertical-align: middle;\n",
              "    }\n",
              "\n",
              "    .dataframe tbody tr th {\n",
              "        vertical-align: top;\n",
              "    }\n",
              "\n",
              "    .dataframe thead th {\n",
              "        text-align: right;\n",
              "    }\n",
              "</style>\n",
              "<table border=\"1\" class=\"dataframe\">\n",
              "  <thead>\n",
              "    <tr style=\"text-align: right;\">\n",
              "      <th></th>\n",
              "      <th>Variables</th>\n",
              "      <th>VIF</th>\n",
              "    </tr>\n",
              "  </thead>\n",
              "  <tbody>\n",
              "    <tr>\n",
              "      <th>0</th>\n",
              "      <td>Subject_Hotness_Score</td>\n",
              "      <td>1.812747</td>\n",
              "    </tr>\n",
              "    <tr>\n",
              "      <th>1</th>\n",
              "      <td>Total_Past_Communications</td>\n",
              "      <td>3.764936</td>\n",
              "    </tr>\n",
              "    <tr>\n",
              "      <th>2</th>\n",
              "      <td>Word_Count</td>\n",
              "      <td>3.992614</td>\n",
              "    </tr>\n",
              "    <tr>\n",
              "      <th>3</th>\n",
              "      <td>Total_Links</td>\n",
              "      <td>9.525929</td>\n",
              "    </tr>\n",
              "    <tr>\n",
              "      <th>4</th>\n",
              "      <td>Total_Images</td>\n",
              "      <td>3.574892</td>\n",
              "    </tr>\n",
              "  </tbody>\n",
              "</table>\n",
              "</div>\n",
              "      <button class=\"colab-df-convert\" onclick=\"convertToInteractive('df-74b3aa72-3bc4-4723-98b7-335b7573a842')\"\n",
              "              title=\"Convert this dataframe to an interactive table.\"\n",
              "              style=\"display:none;\">\n",
              "        \n",
              "  <svg xmlns=\"http://www.w3.org/2000/svg\" height=\"24px\"viewBox=\"0 0 24 24\"\n",
              "       width=\"24px\">\n",
              "    <path d=\"M0 0h24v24H0V0z\" fill=\"none\"/>\n",
              "    <path d=\"M18.56 5.44l.94 2.06.94-2.06 2.06-.94-2.06-.94-.94-2.06-.94 2.06-2.06.94zm-11 1L8.5 8.5l.94-2.06 2.06-.94-2.06-.94L8.5 2.5l-.94 2.06-2.06.94zm10 10l.94 2.06.94-2.06 2.06-.94-2.06-.94-.94-2.06-.94 2.06-2.06.94z\"/><path d=\"M17.41 7.96l-1.37-1.37c-.4-.4-.92-.59-1.43-.59-.52 0-1.04.2-1.43.59L10.3 9.45l-7.72 7.72c-.78.78-.78 2.05 0 2.83L4 21.41c.39.39.9.59 1.41.59.51 0 1.02-.2 1.41-.59l7.78-7.78 2.81-2.81c.8-.78.8-2.07 0-2.86zM5.41 20L4 18.59l7.72-7.72 1.47 1.35L5.41 20z\"/>\n",
              "  </svg>\n",
              "      </button>\n",
              "      \n",
              "  <style>\n",
              "    .colab-df-container {\n",
              "      display:flex;\n",
              "      flex-wrap:wrap;\n",
              "      gap: 12px;\n",
              "    }\n",
              "\n",
              "    .colab-df-convert {\n",
              "      background-color: #E8F0FE;\n",
              "      border: none;\n",
              "      border-radius: 50%;\n",
              "      cursor: pointer;\n",
              "      display: none;\n",
              "      fill: #1967D2;\n",
              "      height: 32px;\n",
              "      padding: 0 0 0 0;\n",
              "      width: 32px;\n",
              "    }\n",
              "\n",
              "    .colab-df-convert:hover {\n",
              "      background-color: #E2EBFA;\n",
              "      box-shadow: 0px 1px 2px rgba(60, 64, 67, 0.3), 0px 1px 3px 1px rgba(60, 64, 67, 0.15);\n",
              "      fill: #174EA6;\n",
              "    }\n",
              "\n",
              "    [theme=dark] .colab-df-convert {\n",
              "      background-color: #3B4455;\n",
              "      fill: #D2E3FC;\n",
              "    }\n",
              "\n",
              "    [theme=dark] .colab-df-convert:hover {\n",
              "      background-color: #434B5C;\n",
              "      box-shadow: 0px 1px 3px 1px rgba(0, 0, 0, 0.15);\n",
              "      filter: drop-shadow(0px 1px 2px rgba(0, 0, 0, 0.3));\n",
              "      fill: #FFFFFF;\n",
              "    }\n",
              "  </style>\n",
              "\n",
              "      <script>\n",
              "        const buttonEl =\n",
              "          document.querySelector('#df-74b3aa72-3bc4-4723-98b7-335b7573a842 button.colab-df-convert');\n",
              "        buttonEl.style.display =\n",
              "          google.colab.kernel.accessAllowed ? 'block' : 'none';\n",
              "\n",
              "        async function convertToInteractive(key) {\n",
              "          const element = document.querySelector('#df-74b3aa72-3bc4-4723-98b7-335b7573a842');\n",
              "          const dataTable =\n",
              "            await google.colab.kernel.invokeFunction('convertToInteractive',\n",
              "                                                     [key], {});\n",
              "          if (!dataTable) return;\n",
              "\n",
              "          const docLinkHtml = 'Like what you see? Visit the ' +\n",
              "            '<a target=\"_blank\" href=https://colab.research.google.com/notebooks/data_table.ipynb>data table notebook</a>'\n",
              "            + ' to learn more about interactive tables.';\n",
              "          element.innerHTML = '';\n",
              "          dataTable['output_type'] = 'display_data';\n",
              "          await google.colab.output.renderOutput(dataTable, element);\n",
              "          const docLink = document.createElement('div');\n",
              "          docLink.innerHTML = docLinkHtml;\n",
              "          element.appendChild(docLink);\n",
              "        }\n",
              "      </script>\n",
              "    </div>\n",
              "  </div>\n",
              "  "
            ]
          },
          "metadata": {},
          "execution_count": 26
        }
      ],
      "source": [
        "# VIF values for numerical features.\n",
        "calc_vif(data[numerical_features])"
      ]
    },
    {
      "cell_type": "markdown",
      "metadata": {
        "id": "b0WkMshryE8C"
      },
      "source": [
        "**Inference** : The \"Total_Links\" feature have high VIF value."
      ]
    },
    {
      "cell_type": "markdown",
      "metadata": {
        "id": "GNTz-dJoyfua"
      },
      "source": [
        "Let's calculate VIF values without \"Total_Links\" feature."
      ]
    },
    {
      "cell_type": "code",
      "execution_count": null,
      "metadata": {
        "colab": {
          "base_uri": "https://localhost:8080/"
        },
        "id": "hiGND5mgx88p",
        "outputId": "fce8e246-ce25-4709-ed4e-5ef14b6240ea"
      },
      "outputs": [
        {
          "output_type": "execute_result",
          "data": {
            "text/plain": [
              "                   Variables       VIF\n",
              "0      Subject_Hotness_Score  1.694566\n",
              "1  Total_Past_Communications  2.958079\n",
              "2                 Word_Count  3.347659\n",
              "3               Total_Images  1.421444"
            ],
            "text/html": [
              "\n",
              "  <div id=\"df-c261e52d-d553-467c-bcf4-85575800f41c\">\n",
              "    <div class=\"colab-df-container\">\n",
              "      <div>\n",
              "<style scoped>\n",
              "    .dataframe tbody tr th:only-of-type {\n",
              "        vertical-align: middle;\n",
              "    }\n",
              "\n",
              "    .dataframe tbody tr th {\n",
              "        vertical-align: top;\n",
              "    }\n",
              "\n",
              "    .dataframe thead th {\n",
              "        text-align: right;\n",
              "    }\n",
              "</style>\n",
              "<table border=\"1\" class=\"dataframe\">\n",
              "  <thead>\n",
              "    <tr style=\"text-align: right;\">\n",
              "      <th></th>\n",
              "      <th>Variables</th>\n",
              "      <th>VIF</th>\n",
              "    </tr>\n",
              "  </thead>\n",
              "  <tbody>\n",
              "    <tr>\n",
              "      <th>0</th>\n",
              "      <td>Subject_Hotness_Score</td>\n",
              "      <td>1.694566</td>\n",
              "    </tr>\n",
              "    <tr>\n",
              "      <th>1</th>\n",
              "      <td>Total_Past_Communications</td>\n",
              "      <td>2.958079</td>\n",
              "    </tr>\n",
              "    <tr>\n",
              "      <th>2</th>\n",
              "      <td>Word_Count</td>\n",
              "      <td>3.347659</td>\n",
              "    </tr>\n",
              "    <tr>\n",
              "      <th>3</th>\n",
              "      <td>Total_Images</td>\n",
              "      <td>1.421444</td>\n",
              "    </tr>\n",
              "  </tbody>\n",
              "</table>\n",
              "</div>\n",
              "      <button class=\"colab-df-convert\" onclick=\"convertToInteractive('df-c261e52d-d553-467c-bcf4-85575800f41c')\"\n",
              "              title=\"Convert this dataframe to an interactive table.\"\n",
              "              style=\"display:none;\">\n",
              "        \n",
              "  <svg xmlns=\"http://www.w3.org/2000/svg\" height=\"24px\"viewBox=\"0 0 24 24\"\n",
              "       width=\"24px\">\n",
              "    <path d=\"M0 0h24v24H0V0z\" fill=\"none\"/>\n",
              "    <path d=\"M18.56 5.44l.94 2.06.94-2.06 2.06-.94-2.06-.94-.94-2.06-.94 2.06-2.06.94zm-11 1L8.5 8.5l.94-2.06 2.06-.94-2.06-.94L8.5 2.5l-.94 2.06-2.06.94zm10 10l.94 2.06.94-2.06 2.06-.94-2.06-.94-.94-2.06-.94 2.06-2.06.94z\"/><path d=\"M17.41 7.96l-1.37-1.37c-.4-.4-.92-.59-1.43-.59-.52 0-1.04.2-1.43.59L10.3 9.45l-7.72 7.72c-.78.78-.78 2.05 0 2.83L4 21.41c.39.39.9.59 1.41.59.51 0 1.02-.2 1.41-.59l7.78-7.78 2.81-2.81c.8-.78.8-2.07 0-2.86zM5.41 20L4 18.59l7.72-7.72 1.47 1.35L5.41 20z\"/>\n",
              "  </svg>\n",
              "      </button>\n",
              "      \n",
              "  <style>\n",
              "    .colab-df-container {\n",
              "      display:flex;\n",
              "      flex-wrap:wrap;\n",
              "      gap: 12px;\n",
              "    }\n",
              "\n",
              "    .colab-df-convert {\n",
              "      background-color: #E8F0FE;\n",
              "      border: none;\n",
              "      border-radius: 50%;\n",
              "      cursor: pointer;\n",
              "      display: none;\n",
              "      fill: #1967D2;\n",
              "      height: 32px;\n",
              "      padding: 0 0 0 0;\n",
              "      width: 32px;\n",
              "    }\n",
              "\n",
              "    .colab-df-convert:hover {\n",
              "      background-color: #E2EBFA;\n",
              "      box-shadow: 0px 1px 2px rgba(60, 64, 67, 0.3), 0px 1px 3px 1px rgba(60, 64, 67, 0.15);\n",
              "      fill: #174EA6;\n",
              "    }\n",
              "\n",
              "    [theme=dark] .colab-df-convert {\n",
              "      background-color: #3B4455;\n",
              "      fill: #D2E3FC;\n",
              "    }\n",
              "\n",
              "    [theme=dark] .colab-df-convert:hover {\n",
              "      background-color: #434B5C;\n",
              "      box-shadow: 0px 1px 3px 1px rgba(0, 0, 0, 0.15);\n",
              "      filter: drop-shadow(0px 1px 2px rgba(0, 0, 0, 0.3));\n",
              "      fill: #FFFFFF;\n",
              "    }\n",
              "  </style>\n",
              "\n",
              "      <script>\n",
              "        const buttonEl =\n",
              "          document.querySelector('#df-c261e52d-d553-467c-bcf4-85575800f41c button.colab-df-convert');\n",
              "        buttonEl.style.display =\n",
              "          google.colab.kernel.accessAllowed ? 'block' : 'none';\n",
              "\n",
              "        async function convertToInteractive(key) {\n",
              "          const element = document.querySelector('#df-c261e52d-d553-467c-bcf4-85575800f41c');\n",
              "          const dataTable =\n",
              "            await google.colab.kernel.invokeFunction('convertToInteractive',\n",
              "                                                     [key], {});\n",
              "          if (!dataTable) return;\n",
              "\n",
              "          const docLinkHtml = 'Like what you see? Visit the ' +\n",
              "            '<a target=\"_blank\" href=https://colab.research.google.com/notebooks/data_table.ipynb>data table notebook</a>'\n",
              "            + ' to learn more about interactive tables.';\n",
              "          element.innerHTML = '';\n",
              "          dataTable['output_type'] = 'display_data';\n",
              "          await google.colab.output.renderOutput(dataTable, element);\n",
              "          const docLink = document.createElement('div');\n",
              "          docLink.innerHTML = docLinkHtml;\n",
              "          element.appendChild(docLink);\n",
              "        }\n",
              "      </script>\n",
              "    </div>\n",
              "  </div>\n",
              "  "
            ]
          },
          "metadata": {},
          "execution_count": 27
        }
      ],
      "source": [
        "# VIF values after removing \"Total_Links\" feature.\n",
        "calc_vif(data[['Subject_Hotness_Score', 'Total_Past_Communications', 'Word_Count', 'Total_Images']])"
      ]
    },
    {
      "cell_type": "markdown",
      "metadata": {
        "id": "o-yvZKksyyed"
      },
      "source": [
        "**Inference** : The VIF values get reduced. So we should either drop \"Total_Links\" feature or use a combination of the features \"Total_Links\" and \"Total_Images\"."
      ]
    },
    {
      "cell_type": "markdown",
      "metadata": {
        "id": "auotvR7S0yl1"
      },
      "source": [
        "**Let's Check Categorical Features**"
      ]
    },
    {
      "cell_type": "code",
      "execution_count": null,
      "metadata": {
        "colab": {
          "base_uri": "https://localhost:8080/"
        },
        "id": "FOJhz7C9AU2E",
        "outputId": "e423478a-c1d5-4ac5-c2f9-dd988eb6a28d"
      },
      "outputs": [
        {
          "output_type": "stream",
          "name": "stdout",
          "text": [
            "['Email_ID', 'Email_Type', 'Email_Source_Type', 'Customer_Location', 'Email_Campaign_Type', 'Time_Email_sent_Category']\n"
          ]
        }
      ],
      "source": [
        "# Categorical features \n",
        "total_categorical_features = list(data.describe(include=['object']).columns)\n",
        "print(total_categorical_features)"
      ]
    },
    {
      "cell_type": "markdown",
      "metadata": {
        "id": "d1cI1mdQApD3"
      },
      "source": [
        "The 'Email_ID' feature contains identity information, so we can skip this feature for further process."
      ]
    },
    {
      "cell_type": "code",
      "execution_count": null,
      "metadata": {
        "colab": {
          "base_uri": "https://localhost:8080/"
        },
        "id": "RdOmKbVr2FaH",
        "outputId": "0bb15201-c52c-401d-ccde-f47c6308fd11"
      },
      "outputs": [
        {
          "output_type": "stream",
          "name": "stdout",
          "text": [
            "['Email_Type', 'Email_Source_Type', 'Customer_Location', 'Email_Campaign_Type', 'Time_Email_sent_Category']\n",
            "====================================================================================================\n",
            "Total Categorical Features : 5\n"
          ]
        }
      ],
      "source": [
        "# Categorical features to be used.\n",
        "categorical_features = total_categorical_features[1:]\n",
        "print(categorical_features)\n",
        "print('='*100)\n",
        "print(\"Total Categorical Features :\",len(categorical_features))"
      ]
    },
    {
      "cell_type": "code",
      "execution_count": null,
      "metadata": {
        "colab": {
          "base_uri": "https://localhost:8080/"
        },
        "id": "kHH851hD6j8l",
        "outputId": "a01da3e8-0f0d-4a72-d30a-8e91e63d672e"
      },
      "outputs": [
        {
          "output_type": "execute_result",
          "data": {
            "text/plain": [
              "                          count unique top   freq\n",
              "Email_Type                68353      2   1  48866\n",
              "Email_Source_Type         68353      2   1  37149\n",
              "Customer_Location         56758      7   G  23173\n",
              "Email_Campaign_Type       68353      3   2  48273\n",
              "Time_Email_sent_Category  68353      3   2  41129"
            ],
            "text/html": [
              "\n",
              "  <div id=\"df-d5ab5836-67c7-416e-9024-0b2b48665d45\">\n",
              "    <div class=\"colab-df-container\">\n",
              "      <div>\n",
              "<style scoped>\n",
              "    .dataframe tbody tr th:only-of-type {\n",
              "        vertical-align: middle;\n",
              "    }\n",
              "\n",
              "    .dataframe tbody tr th {\n",
              "        vertical-align: top;\n",
              "    }\n",
              "\n",
              "    .dataframe thead th {\n",
              "        text-align: right;\n",
              "    }\n",
              "</style>\n",
              "<table border=\"1\" class=\"dataframe\">\n",
              "  <thead>\n",
              "    <tr style=\"text-align: right;\">\n",
              "      <th></th>\n",
              "      <th>count</th>\n",
              "      <th>unique</th>\n",
              "      <th>top</th>\n",
              "      <th>freq</th>\n",
              "    </tr>\n",
              "  </thead>\n",
              "  <tbody>\n",
              "    <tr>\n",
              "      <th>Email_Type</th>\n",
              "      <td>68353</td>\n",
              "      <td>2</td>\n",
              "      <td>1</td>\n",
              "      <td>48866</td>\n",
              "    </tr>\n",
              "    <tr>\n",
              "      <th>Email_Source_Type</th>\n",
              "      <td>68353</td>\n",
              "      <td>2</td>\n",
              "      <td>1</td>\n",
              "      <td>37149</td>\n",
              "    </tr>\n",
              "    <tr>\n",
              "      <th>Customer_Location</th>\n",
              "      <td>56758</td>\n",
              "      <td>7</td>\n",
              "      <td>G</td>\n",
              "      <td>23173</td>\n",
              "    </tr>\n",
              "    <tr>\n",
              "      <th>Email_Campaign_Type</th>\n",
              "      <td>68353</td>\n",
              "      <td>3</td>\n",
              "      <td>2</td>\n",
              "      <td>48273</td>\n",
              "    </tr>\n",
              "    <tr>\n",
              "      <th>Time_Email_sent_Category</th>\n",
              "      <td>68353</td>\n",
              "      <td>3</td>\n",
              "      <td>2</td>\n",
              "      <td>41129</td>\n",
              "    </tr>\n",
              "  </tbody>\n",
              "</table>\n",
              "</div>\n",
              "      <button class=\"colab-df-convert\" onclick=\"convertToInteractive('df-d5ab5836-67c7-416e-9024-0b2b48665d45')\"\n",
              "              title=\"Convert this dataframe to an interactive table.\"\n",
              "              style=\"display:none;\">\n",
              "        \n",
              "  <svg xmlns=\"http://www.w3.org/2000/svg\" height=\"24px\"viewBox=\"0 0 24 24\"\n",
              "       width=\"24px\">\n",
              "    <path d=\"M0 0h24v24H0V0z\" fill=\"none\"/>\n",
              "    <path d=\"M18.56 5.44l.94 2.06.94-2.06 2.06-.94-2.06-.94-.94-2.06-.94 2.06-2.06.94zm-11 1L8.5 8.5l.94-2.06 2.06-.94-2.06-.94L8.5 2.5l-.94 2.06-2.06.94zm10 10l.94 2.06.94-2.06 2.06-.94-2.06-.94-.94-2.06-.94 2.06-2.06.94z\"/><path d=\"M17.41 7.96l-1.37-1.37c-.4-.4-.92-.59-1.43-.59-.52 0-1.04.2-1.43.59L10.3 9.45l-7.72 7.72c-.78.78-.78 2.05 0 2.83L4 21.41c.39.39.9.59 1.41.59.51 0 1.02-.2 1.41-.59l7.78-7.78 2.81-2.81c.8-.78.8-2.07 0-2.86zM5.41 20L4 18.59l7.72-7.72 1.47 1.35L5.41 20z\"/>\n",
              "  </svg>\n",
              "      </button>\n",
              "      \n",
              "  <style>\n",
              "    .colab-df-container {\n",
              "      display:flex;\n",
              "      flex-wrap:wrap;\n",
              "      gap: 12px;\n",
              "    }\n",
              "\n",
              "    .colab-df-convert {\n",
              "      background-color: #E8F0FE;\n",
              "      border: none;\n",
              "      border-radius: 50%;\n",
              "      cursor: pointer;\n",
              "      display: none;\n",
              "      fill: #1967D2;\n",
              "      height: 32px;\n",
              "      padding: 0 0 0 0;\n",
              "      width: 32px;\n",
              "    }\n",
              "\n",
              "    .colab-df-convert:hover {\n",
              "      background-color: #E2EBFA;\n",
              "      box-shadow: 0px 1px 2px rgba(60, 64, 67, 0.3), 0px 1px 3px 1px rgba(60, 64, 67, 0.15);\n",
              "      fill: #174EA6;\n",
              "    }\n",
              "\n",
              "    [theme=dark] .colab-df-convert {\n",
              "      background-color: #3B4455;\n",
              "      fill: #D2E3FC;\n",
              "    }\n",
              "\n",
              "    [theme=dark] .colab-df-convert:hover {\n",
              "      background-color: #434B5C;\n",
              "      box-shadow: 0px 1px 3px 1px rgba(0, 0, 0, 0.15);\n",
              "      filter: drop-shadow(0px 1px 2px rgba(0, 0, 0, 0.3));\n",
              "      fill: #FFFFFF;\n",
              "    }\n",
              "  </style>\n",
              "\n",
              "      <script>\n",
              "        const buttonEl =\n",
              "          document.querySelector('#df-d5ab5836-67c7-416e-9024-0b2b48665d45 button.colab-df-convert');\n",
              "        buttonEl.style.display =\n",
              "          google.colab.kernel.accessAllowed ? 'block' : 'none';\n",
              "\n",
              "        async function convertToInteractive(key) {\n",
              "          const element = document.querySelector('#df-d5ab5836-67c7-416e-9024-0b2b48665d45');\n",
              "          const dataTable =\n",
              "            await google.colab.kernel.invokeFunction('convertToInteractive',\n",
              "                                                     [key], {});\n",
              "          if (!dataTable) return;\n",
              "\n",
              "          const docLinkHtml = 'Like what you see? Visit the ' +\n",
              "            '<a target=\"_blank\" href=https://colab.research.google.com/notebooks/data_table.ipynb>data table notebook</a>'\n",
              "            + ' to learn more about interactive tables.';\n",
              "          element.innerHTML = '';\n",
              "          dataTable['output_type'] = 'display_data';\n",
              "          await google.colab.output.renderOutput(dataTable, element);\n",
              "          const docLink = document.createElement('div');\n",
              "          docLink.innerHTML = docLinkHtml;\n",
              "          element.appendChild(docLink);\n",
              "        }\n",
              "      </script>\n",
              "    </div>\n",
              "  </div>\n",
              "  "
            ]
          },
          "metadata": {},
          "execution_count": 30
        }
      ],
      "source": [
        "# Checking Information of Categorical Features.\n",
        "data.describe(include=['object']).transpose()[1:]"
      ]
    },
    {
      "cell_type": "markdown",
      "source": [
        "**Inference** : There are two subcategories under \"Email_Type\" and \"Email_Source_Type\" features, three subcategories under \"Email_Campaign_Type\" and \"Time_Email_Sent_Category\" features, and seven subcategories under \"Customer_Location\" feature."
      ],
      "metadata": {
        "id": "ZxWGAqCX07wT"
      }
    },
    {
      "cell_type": "code",
      "execution_count": null,
      "metadata": {
        "colab": {
          "base_uri": "https://localhost:8080/"
        },
        "id": "Y4aXaZQO2UrT",
        "outputId": "11c56071-7757-4728-9cda-ea035335ca3c"
      },
      "outputs": [
        {
          "output_type": "display_data",
          "data": {
            "text/plain": [
              "<Figure size 1008x1008 with 5 Axes>"
            ],
            "image/png": "[encoded data removed]"
          },
          "metadata": {
            "needs_background": "light"
          }
        }
      ],
      "source": [
        "# Using Histogram for the visualization features.\n",
        "n=1\n",
        "## Setting figure size.\n",
        "plt.figure(figsize=(14,14))\n",
        "for col in categorical_features:\n",
        "  feature=data[col]\n",
        "  # Using Subplots\n",
        "  plt.subplot(3,2,n)\n",
        "  sns.countplot(feature,palette='inferno')\n",
        "  n+=1\n",
        "plt.show()"
      ]
    },
    {
      "cell_type": "markdown",
      "metadata": {
        "id": "8tcv3ceu9_CL"
      },
      "source": [
        "**Inference** : \n",
        "\n",
        "*  For the feature \"Email_Type\" ,there are more number of points of Type 1 rather than Type 2.\n",
        "*   For the feature \"Email_Source_Type\",there is slight difference in distribution of points of Type 1 and Type 2.\n",
        "*   For the feature \"Customer_Location\", majority of the points belongs to category G.\n",
        "*   For the feature \"Email_Campaign_Type\" , majority of the points belongs to Type 2.\n",
        "*   For the feature \"Time_Email_Sent_Category\" also, majority of the points belongs to Type 2."
      ]
    },
    {
      "cell_type": "markdown",
      "metadata": {
        "id": "abc7bSYnBi4d"
      },
      "source": [
        "## **Data Preparation before Modelling**"
      ]
    },
    {
      "cell_type": "code",
      "execution_count": null,
      "metadata": {
        "id": "jS1mkdirBqC0"
      },
      "outputs": [],
      "source": [
        "# The \"Email_Id\" feature contains identity information. So dropping this feature.\n",
        "data.drop('Email_ID',axis=1,inplace=True)"
      ]
    },
    {
      "cell_type": "markdown",
      "metadata": {
        "id": "6yQgugb1kTMP"
      },
      "source": [
        "**Removing Outliers**"
      ]
    },
    {
      "cell_type": "markdown",
      "metadata": {
        "id": "BRrnnDs4za-S"
      },
      "source": [
        "As there is high class imbalancy and we have very few points of class \"2\" and class \"1\" , so we will remove only those outliers which belongs to class \"1\"."
      ]
    },
    {
      "cell_type": "code",
      "execution_count": null,
      "metadata": {
        "id": "P2qyYHeQEACH"
      },
      "outputs": [],
      "source": [
        "# Removing points which fall out off the inter quartile range for each feature.\n",
        "for feature in numerical_features:\n",
        "  ## Calculating 25 and 75 percentile.\n",
        "  q_25,q_75=np.percentile(data[~data[feature].isnull()].loc[data['Email_Status']==0,feature],[25,75])\n",
        "  ## Calculating inter quartile range.\n",
        "  iqr=q_75-q_25\n",
        "  ## Calculating upper limit.\n",
        "  upper=q_75+1.5*iqr\n",
        "  ## Calculating lower limit.\n",
        "  lower=q_25-1.5*iqr\n",
        "  ## Dropping all those points which fall above upper limit and below lower limit.\n",
        "  data.drop(data[(data['Email_Status']==0) & (data[feature]>=upper)].index,axis=0,inplace=True)\n",
        "  data.drop(data[(data['Email_Status']==0) & (data[feature]<=lower)].index,axis=0,inplace=True)"
      ]
    },
    {
      "cell_type": "markdown",
      "metadata": {
        "id": "rF_xRrVHkjxk"
      },
      "source": [
        "**Replacing Missing Values**"
      ]
    },
    {
      "cell_type": "markdown",
      "metadata": {
        "id": "OM33KpZ70wOo"
      },
      "source": [
        "We are using Iterative Imputer to fill missing values of numerical features and treating missing values of categorical feature as seperate category using Simple Imputer."
      ]
    },
    {
      "cell_type": "code",
      "execution_count": null,
      "metadata": {
        "id": "LZ0OeVV6kBe9"
      },
      "outputs": [],
      "source": [
        "## Using Iterative Imputer for Numerical Features.\n",
        "num_imputer=IterativeImputer(random_state=0)\n",
        "data[numerical_features]=num_imputer.fit_transform(data[numerical_features])\n",
        "\n",
        "## Treating missing values as seperate category for Categorical Features.\n",
        "cat_imputer=SimpleImputer(missing_values=np.NaN, strategy='constant', fill_value='Missing')\n",
        "data['Customer_Location']=cat_imputer.fit_transform(np.array(data['Customer_Location']).reshape(-1,1))"
      ]
    },
    {
      "cell_type": "code",
      "execution_count": null,
      "metadata": {
        "colab": {
          "base_uri": "https://localhost:8080/"
        },
        "id": "lbzMlAIBkEHt",
        "outputId": "f66c03b7-fb7b-4c01-c67e-d97593ba340f"
      },
      "outputs": [
        {
          "output_type": "execute_result",
          "data": {
            "text/plain": [
              "Email_Type                   0\n",
              "Subject_Hotness_Score        0\n",
              "Email_Source_Type            0\n",
              "Customer_Location            0\n",
              "Email_Campaign_Type          0\n",
              "Total_Past_Communications    0\n",
              "Time_Email_sent_Category     0\n",
              "Word_Count                   0\n",
              "Total_Links                  0\n",
              "Total_Images                 0\n",
              "Email_Status                 0\n",
              "dtype: int64"
            ]
          },
          "metadata": {},
          "execution_count": 36
        }
      ],
      "source": [
        "# Cross Checking that missing values got replaced or not.\n",
        "data.isnull().sum()"
      ]
    },
    {
      "cell_type": "markdown",
      "metadata": {
        "id": "ms6Td9Uv2v3W"
      },
      "source": [
        "**Removing Collineaity** : To remove collinearity combination of collinear features as a single feature have been taken."
      ]
    },
    {
      "cell_type": "code",
      "execution_count": null,
      "metadata": {
        "id": "mGux6pUMphT5"
      },
      "outputs": [],
      "source": [
        "## Using combination of collinear features to remove collinearity.\n",
        "data['Total_Links_Images']=0.4*data['Total_Links']+0.6*data['Total_Images']"
      ]
    },
    {
      "cell_type": "markdown",
      "metadata": {
        "id": "jxtkDtpckung"
      },
      "source": [
        "**Splitting Dataset into Train and Test Set**"
      ]
    },
    {
      "cell_type": "code",
      "execution_count": null,
      "metadata": {
        "id": "H7A-OCPLn60V"
      },
      "outputs": [],
      "source": [
        "# Collecting response and predictor variables.\n",
        "y=np.array(data['Email_Status']).reshape(-1,1)\n",
        "X=data.drop(['Email_Status','Total_Links','Total_Images'],axis=1)"
      ]
    },
    {
      "cell_type": "code",
      "execution_count": null,
      "metadata": {
        "id": "TxUIsUg7kt60"
      },
      "outputs": [],
      "source": [
        "# Splitting dataset into train and test set.\n",
        "train_set,test_set,y_train,y_test=train_test_split(X,y,test_size=0.2,random_state=0,stratify=y)"
      ]
    },
    {
      "cell_type": "markdown",
      "metadata": {
        "id": "xkxhFH-no8HI"
      },
      "source": [
        "**Transforming Numerical Features**"
      ]
    },
    {
      "cell_type": "code",
      "execution_count": null,
      "metadata": {
        "colab": {
          "base_uri": "https://localhost:8080/"
        },
        "id": "JYK_X9jrqqvp",
        "outputId": "aaa262f4-2f46-4d64-a7c1-284c08ceef04"
      },
      "outputs": [
        {
          "output_type": "stream",
          "name": "stdout",
          "text": [
            "['Subject_Hotness_Score', 'Total_Past_Communications', 'Word_Count', 'Total_Links_Images']\n",
            "====================================================================================================\n",
            "Total numerical Features : 4\n"
          ]
        }
      ],
      "source": [
        "# Collecting Numerical Features.\n",
        "numerical_features=list(X.describe().columns)\n",
        "print(numerical_features)\n",
        "print('='*100)\n",
        "print('Total numerical Features :',len(numerical_features))"
      ]
    },
    {
      "cell_type": "code",
      "execution_count": null,
      "metadata": {
        "id": "4fM_sYNJo18G"
      },
      "outputs": [],
      "source": [
        "# Using Power Transformer as we have seen ealier that it helps in removing the skewness and standardizing as well.\n",
        "transformer=PowerTransformer(standardize=True)\n",
        "## Fitting the transformer with numerical features in train set.\n",
        "transformer.fit(train_set[numerical_features])\n",
        "## Transforming numerical features in train set.\n",
        "train_numerical=transformer.transform(train_set[numerical_features])\n",
        "## Transforming numerical features in test set.\n",
        "test_numerical=transformer.transform(test_set[numerical_features])"
      ]
    },
    {
      "cell_type": "code",
      "execution_count": null,
      "metadata": {
        "colab": {
          "base_uri": "https://localhost:8080/"
        },
        "id": "H2WC7lIas5p5",
        "outputId": "908f764a-7f31-42fd-c523-42143a22e6bd"
      },
      "outputs": [
        {
          "output_type": "stream",
          "name": "stdout",
          "text": [
            "Numerical Train Set Shape : (50075, 4)\n",
            "Numerical Test Set Shape : (12519, 4)\n"
          ]
        }
      ],
      "source": [
        "print('Numerical Train Set Shape :',train_numerical.shape)\n",
        "print('Numerical Test Set Shape :',test_numerical.shape)"
      ]
    },
    {
      "cell_type": "markdown",
      "metadata": {
        "id": "hpw7X3iQr1rA"
      },
      "source": [
        "**Transforming Categorical Features**"
      ]
    },
    {
      "cell_type": "code",
      "execution_count": null,
      "metadata": {
        "colab": {
          "base_uri": "https://localhost:8080/"
        },
        "id": "ctWbhpF2scOg",
        "outputId": "38038ec3-a8c2-4ea6-ba9a-b06df66ac9d3"
      },
      "outputs": [
        {
          "output_type": "stream",
          "name": "stdout",
          "text": [
            "['Email_Type', 'Email_Source_Type', 'Customer_Location', 'Email_Campaign_Type', 'Time_Email_sent_Category']\n",
            "==============================================================================================================\n",
            "Total numerical Features : 5\n"
          ]
        }
      ],
      "source": [
        "# Collecting Categorical Features.\n",
        "print(categorical_features)\n",
        "print('='*110)\n",
        "print('Total numerical Features :',len(categorical_features))\n"
      ]
    },
    {
      "cell_type": "code",
      "execution_count": null,
      "metadata": {
        "id": "R4kV4yQNsto4"
      },
      "outputs": [],
      "source": [
        "# Transfoming Categorical Features which are nominal in nature. \n",
        "ohe=OneHotEncoder(sparse=False)\n",
        "## Fitting the encoder with categorical features in train set.\n",
        "ohe.fit(train_set[categorical_features])\n",
        "## Transforming categorical features in train set.\n",
        "train_categorical=ohe.transform(train_set[categorical_features])\n",
        "## Transforming categorical features in test set.\n",
        "test_categorical=ohe.transform(test_set[categorical_features])"
      ]
    },
    {
      "cell_type": "code",
      "execution_count": null,
      "metadata": {
        "colab": {
          "base_uri": "https://localhost:8080/"
        },
        "id": "rqzFdAkes27p",
        "outputId": "4303e60d-06c2-4289-8d35-c288abd142ff"
      },
      "outputs": [
        {
          "output_type": "stream",
          "name": "stdout",
          "text": [
            "Categorical Train Set Shape : (50075, 18)\n",
            "Categorical Test Set Shape : (12519, 18)\n"
          ]
        }
      ],
      "source": [
        "print('Categorical Train Set Shape :',train_categorical.shape)\n",
        "print('Categorical Test Set Shape :',test_categorical.shape)"
      ]
    },
    {
      "cell_type": "markdown",
      "metadata": {
        "id": "-pMCWahLsy7w"
      },
      "source": [
        "**Concatenating Transformed numerical and categorical features for both train and test set.**"
      ]
    },
    {
      "cell_type": "code",
      "execution_count": null,
      "metadata": {
        "id": "MMUIKn5gtKSF"
      },
      "outputs": [],
      "source": [
        "# Concatecating the numerical and categorical features together.\n",
        "X_train=np.concatenate([train_numerical,train_categorical],axis=1)\n",
        "X_test=np.concatenate([test_numerical,test_categorical],axis=1)"
      ]
    },
    {
      "cell_type": "code",
      "execution_count": null,
      "metadata": {
        "colab": {
          "base_uri": "https://localhost:8080/"
        },
        "id": "Te7h7jRwtP2C",
        "outputId": "d234fd2e-2e77-4fa9-e24d-792039751159"
      },
      "outputs": [
        {
          "output_type": "stream",
          "name": "stdout",
          "text": [
            "Train Set Shape : (50075, 22)\n",
            "Test Set Shape : (12519, 22)\n"
          ]
        }
      ],
      "source": [
        "print('Train Set Shape :',X_train.shape)\n",
        "print('Test Set Shape :',X_test.shape)"
      ]
    },
    {
      "cell_type": "markdown",
      "source": [
        "## **Handling Class Imbalancy**"
      ],
      "metadata": {
        "id": "4V_2_SPB3wm4"
      }
    },
    {
      "cell_type": "markdown",
      "source": [
        "\n",
        "\n",
        "*   There is high class imbalancy in the dataset. To solve this we will provide different weights to both the majority and minority classes. The difference in weights will influence the classification of the classes during the training phase. The whole purpose is to penalize the misclassification made by the minority class by setting a higher class weight and at the same time reducing weight for the majority class.\n",
        "*   The weights can be assigned accoding to classes simply by using parameter \"class_weight\" as \"balanced\" while defining the machine learning models.\n",
        "\n"
      ],
      "metadata": {
        "id": "b-3Z6gBI345z"
      }
    },
    {
      "cell_type": "markdown",
      "metadata": {
        "id": "93n1591NDQPY"
      },
      "source": [
        "## **Metrics to be used**"
      ]
    },
    {
      "cell_type": "markdown",
      "source": [
        "There is high imbalance of classes in the dataset, and also our objective is to classify the mails as ignored ; read and acknowledged as correctly as possible to corresponding classes.So fo this task we will look upon weighted Precison,Recall and F1 score, as Precision and Recall account for true positives which is nothing but correctly classified points belonging to respective classes and F1 score is just hamonic mean of these two which is a combined single metric to look for. We wil also look for ROC_AUC score. In final we look upon below metics.\n",
        "\n",
        "\n",
        "*   Precison Score\n",
        "*   Recall Score\n",
        "*   F1 Score\n",
        "*   ROC AUC Score\n",
        "\n"
      ],
      "metadata": {
        "id": "RK65KH81fakW"
      }
    },
    {
      "cell_type": "markdown",
      "source": [
        "## **Model Explainabilty and Feature Importance**"
      ],
      "metadata": {
        "id": "0E53qwprjfjs"
      }
    },
    {
      "cell_type": "markdown",
      "source": [
        "\n",
        "*   The objective is to classify the mails as ignored ; read and acknowledged. For this , we need to find the reasons why the mails being ignored , how many being read and finally how many being acknowledged.So wee need a model which an explain the reasons fo classifications , so that we can improve the content for the mails such that mails could get read and acknowledged in the future which helps the owners stay connected with their prospective customers.\n",
        "*   The feature importance is also very important in this case as we need to know which are the most important features for classification, so we can focus on those to improve the content for mails.\n",
        "\n"
      ],
      "metadata": {
        "id": "aqVYhCnlj57r"
      }
    },
    {
      "cell_type": "code",
      "execution_count": null,
      "metadata": {
        "id": "lVBxxXSIct1r"
      },
      "outputs": [],
      "source": [
        "# Function for hyperparameter tuning which returns best params for the classifier.\n",
        "def model_best_params(classifier,parameters,X_train,y_train):\n",
        "  # Using GridSearch CV.\n",
        "  gscv=GridSearchCV(classifier, parameters, scoring='recall_weighted',cv=5)\n",
        "  ## Fitting GridSearchCV.\n",
        "  gscv.fit(X_train,y_train)\n",
        "  # returning best params.\n",
        "  return gscv.best_params_"
      ]
    },
    {
      "cell_type": "code",
      "execution_count": null,
      "metadata": {
        "id": "x5NR0EEfct1s"
      },
      "outputs": [],
      "source": [
        "# Function which fits the classifier and returns the results -- metrics score.\n",
        "def model_results(classifier,X_train,y_train,X_test,y_test):\n",
        "  # Fitting the classifier with train set.\n",
        "  classifier.fit(X_train,y_train)\n",
        "  # Collecting Predictions -- Each point belongs to which class type and probabilities of each class for corresponding point.\n",
        "  ## Test Pedictions.\n",
        "  y_pred_te=classifier.predict(X_test)\n",
        "  y_pred_proba_te=classifier.predict_proba(X_test)\n",
        "  ## Train Predictions.\n",
        "  y_pred_tr=classifier.predict(X_train)\n",
        "  y_pred_proba_tr=classifier.predict_proba(X_train)\n",
        "\n",
        "  # Calculating Metrics Scores.\n",
        "  ## Test Scores.\n",
        "  cm=confusion_matrix(y_test,y_pred_te)\n",
        "  precision_te=precision_score(y_test,y_pred_te,average='weighted')\n",
        "  recall_te=recall_score(y_test,y_pred_te,average='weighted')\n",
        "  f1_te=f1_score(y_test,y_pred_te,average='weighted')\n",
        "  roc_auc_te=roc_auc_score(y_test,y_pred_proba_te,multi_class='ovr',average='weighted')\n",
        "  ## Train Scores.\n",
        "  precision_tr=precision_score(y_train,y_pred_tr,average='weighted')\n",
        "  recall_tr=recall_score(y_train,y_pred_tr,average='weighted')\n",
        "  f1_tr=f1_score(y_train,y_pred_tr,average='weighted')\n",
        "  roc_auc_tr=roc_auc_score(y_train,y_pred_proba_tr,multi_class='ovr',average='weighted')\n",
        "\n",
        "  scoring_dict={'Metrics':['precision score','recall score','f1 score','roc_auc score'],\n",
        "                'Train Score':[precision_tr,recall_tr,f1_tr,roc_auc_tr],\n",
        "                'Test Score':[precision_te,recall_te,f1_te,roc_auc_te]}\n",
        "  # Storing results in dataframe.\n",
        "  results=pd.DataFrame(scoring_dict)\n",
        "  ## Plotting Confusion Matrix whenever function would be called.\n",
        "  ConfusionMatrixDisplay(cm).plot()\n",
        "  plt.show()\n",
        "\n",
        "  # returning results.\n",
        "  return results\n"
      ]
    },
    {
      "cell_type": "markdown",
      "metadata": {
        "id": "QNXtdUF6yTWp"
      },
      "source": [
        "## **Feature Engineering & Modelling**"
      ]
    },
    {
      "cell_type": "markdown",
      "metadata": {
        "id": "LB2gN9OHQVpK"
      },
      "source": [
        "**Transforming numerical features into polynomials of degree 5.**"
      ]
    },
    {
      "cell_type": "code",
      "execution_count": null,
      "metadata": {
        "colab": {
          "base_uri": "https://localhost:8080/"
        },
        "id": "kgtia1efnqwW",
        "outputId": "71ccd3fd-ad6c-4f0e-c736-3d8d5b0d2026"
      },
      "outputs": [
        {
          "output_type": "stream",
          "name": "stdout",
          "text": [
            "Train set shape : (50075, 144)\n",
            "Test set shape : (12519, 144)\n"
          ]
        }
      ],
      "source": [
        "from sklearn.preprocessing import PolynomialFeatures\n",
        "# Transforming features into polynomials of degree 5.\n",
        "pf=PolynomialFeatures(degree=5)\n",
        "## Fitting and transforming train features.\n",
        "train_numerical_pf=pf.fit_transform(train_set[numerical_features])\n",
        "## Transforming test features.\n",
        "test_numerical_pf=pf.transform(test_set[numerical_features])\n",
        "\n",
        "# Power Transformer to standardize and remove skewness.\n",
        "transformer=PowerTransformer(standardize=True)\n",
        "## Fitting and transforming train features.\n",
        "transformer.fit(train_numerical_pf)\n",
        "train_numerical_pt=transformer.transform(train_numerical_pf)\n",
        "## Transforming test features.\n",
        "test_numerical_pt=transformer.transform(test_numerical_pf)\n",
        "\n",
        "# Concatenating with one hot encoded train and test categorical features.\n",
        "X_tr=np.concatenate([train_numerical_pt,train_categorical],axis=1)\n",
        "X_te=np.concatenate([test_numerical_pt,test_categorical],axis=1)\n",
        "\n",
        "# Tain and Test sets shape.\n",
        "print('Train set shape :',X_tr.shape)\n",
        "print('Test set shape :',X_te.shape)"
      ]
    },
    {
      "cell_type": "markdown",
      "metadata": {
        "id": "lWC47JYLSVSS"
      },
      "source": [
        "### **Logistic Regression**"
      ]
    },
    {
      "cell_type": "code",
      "execution_count": null,
      "metadata": {
        "colab": {
          "base_uri": "https://localhost:8080/",
          "height": 437
        },
        "id": "QxdmbayZSVSU",
        "outputId": "3e50e76a-4b4e-4b6d-dece-01c3c0701bb4"
      },
      "outputs": [
        {
          "data": {
            "image/png": "[encoded data removed]",
            "text/plain": [
              "<Figure size 432x288 with 2 Axes>"
            ]
          },
          "metadata": {},
          "output_type": "display_data"
        },
        {
          "data": {
            "text/html": [
              "\n",
              "  <div id=\"df-0b26909b-5c27-4a4f-8f3d-aa6a3a1fe62f\">\n",
              "    <div class=\"colab-df-container\">\n",
              "      <div>\n",
              "<style scoped>\n",
              "    .dataframe tbody tr th:only-of-type {\n",
              "        vertical-align: middle;\n",
              "    }\n",
              "\n",
              "    .dataframe tbody tr th {\n",
              "        vertical-align: top;\n",
              "    }\n",
              "\n",
              "    .dataframe thead th {\n",
              "        text-align: right;\n",
              "    }\n",
              "</style>\n",
              "<table border=\"1\" class=\"dataframe\">\n",
              "  <thead>\n",
              "    <tr style=\"text-align: right;\">\n",
              "      <th></th>\n",
              "      <th>Metrics</th>\n",
              "      <th>Train Score</th>\n",
              "      <th>Test Score</th>\n",
              "    </tr>\n",
              "  </thead>\n",
              "  <tbody>\n",
              "    <tr>\n",
              "      <th>0</th>\n",
              "      <td>precision score</td>\n",
              "      <td>0.770854</td>\n",
              "      <td>0.772071</td>\n",
              "    </tr>\n",
              "    <tr>\n",
              "      <th>1</th>\n",
              "      <td>recall score</td>\n",
              "      <td>0.644733</td>\n",
              "      <td>0.643981</td>\n",
              "    </tr>\n",
              "    <tr>\n",
              "      <th>2</th>\n",
              "      <td>f1 score</td>\n",
              "      <td>0.692388</td>\n",
              "      <td>0.693431</td>\n",
              "    </tr>\n",
              "    <tr>\n",
              "      <th>3</th>\n",
              "      <td>roc_auc score</td>\n",
              "      <td>0.785615</td>\n",
              "      <td>0.791515</td>\n",
              "    </tr>\n",
              "  </tbody>\n",
              "</table>\n",
              "</div>\n",
              "      <button class=\"colab-df-convert\" onclick=\"convertToInteractive('df-0b26909b-5c27-4a4f-8f3d-aa6a3a1fe62f')\"\n",
              "              title=\"Convert this dataframe to an interactive table.\"\n",
              "              style=\"display:none;\">\n",
              "        \n",
              "  <svg xmlns=\"http://www.w3.org/2000/svg\" height=\"24px\"viewBox=\"0 0 24 24\"\n",
              "       width=\"24px\">\n",
              "    <path d=\"M0 0h24v24H0V0z\" fill=\"none\"/>\n",
              "    <path d=\"M18.56 5.44l.94 2.06.94-2.06 2.06-.94-2.06-.94-.94-2.06-.94 2.06-2.06.94zm-11 1L8.5 8.5l.94-2.06 2.06-.94-2.06-.94L8.5 2.5l-.94 2.06-2.06.94zm10 10l.94 2.06.94-2.06 2.06-.94-2.06-.94-.94-2.06-.94 2.06-2.06.94z\"/><path d=\"M17.41 7.96l-1.37-1.37c-.4-.4-.92-.59-1.43-.59-.52 0-1.04.2-1.43.59L10.3 9.45l-7.72 7.72c-.78.78-.78 2.05 0 2.83L4 21.41c.39.39.9.59 1.41.59.51 0 1.02-.2 1.41-.59l7.78-7.78 2.81-2.81c.8-.78.8-2.07 0-2.86zM5.41 20L4 18.59l7.72-7.72 1.47 1.35L5.41 20z\"/>\n",
              "  </svg>\n",
              "      </button>\n",
              "      \n",
              "  <style>\n",
              "    .colab-df-container {\n",
              "      display:flex;\n",
              "      flex-wrap:wrap;\n",
              "      gap: 12px;\n",
              "    }\n",
              "\n",
              "    .colab-df-convert {\n",
              "      background-color: #E8F0FE;\n",
              "      border: none;\n",
              "      border-radius: 50%;\n",
              "      cursor: pointer;\n",
              "      display: none;\n",
              "      fill: #1967D2;\n",
              "      height: 32px;\n",
              "      padding: 0 0 0 0;\n",
              "      width: 32px;\n",
              "    }\n",
              "\n",
              "    .colab-df-convert:hover {\n",
              "      background-color: #E2EBFA;\n",
              "      box-shadow: 0px 1px 2px rgba(60, 64, 67, 0.3), 0px 1px 3px 1px rgba(60, 64, 67, 0.15);\n",
              "      fill: #174EA6;\n",
              "    }\n",
              "\n",
              "    [theme=dark] .colab-df-convert {\n",
              "      background-color: #3B4455;\n",
              "      fill: #D2E3FC;\n",
              "    }\n",
              "\n",
              "    [theme=dark] .colab-df-convert:hover {\n",
              "      background-color: #434B5C;\n",
              "      box-shadow: 0px 1px 3px 1px rgba(0, 0, 0, 0.15);\n",
              "      filter: drop-shadow(0px 1px 2px rgba(0, 0, 0, 0.3));\n",
              "      fill: #FFFFFF;\n",
              "    }\n",
              "  </style>\n",
              "\n",
              "      <script>\n",
              "        const buttonEl =\n",
              "          document.querySelector('#df-0b26909b-5c27-4a4f-8f3d-aa6a3a1fe62f button.colab-df-convert');\n",
              "        buttonEl.style.display =\n",
              "          google.colab.kernel.accessAllowed ? 'block' : 'none';\n",
              "\n",
              "        async function convertToInteractive(key) {\n",
              "          const element = document.querySelector('#df-0b26909b-5c27-4a4f-8f3d-aa6a3a1fe62f');\n",
              "          const dataTable =\n",
              "            await google.colab.kernel.invokeFunction('convertToInteractive',\n",
              "                                                     [key], {});\n",
              "          if (!dataTable) return;\n",
              "\n",
              "          const docLinkHtml = 'Like what you see? Visit the ' +\n",
              "            '<a target=\"_blank\" href=https://colab.research.google.com/notebooks/data_table.ipynb>data table notebook</a>'\n",
              "            + ' to learn more about interactive tables.';\n",
              "          element.innerHTML = '';\n",
              "          dataTable['output_type'] = 'display_data';\n",
              "          await google.colab.output.renderOutput(dataTable, element);\n",
              "          const docLink = document.createElement('div');\n",
              "          docLink.innerHTML = docLinkHtml;\n",
              "          element.appendChild(docLink);\n",
              "        }\n",
              "      </script>\n",
              "    </div>\n",
              "  </div>\n",
              "  "
            ],
            "text/plain": [
              "           Metrics  Train Score  Test Score\n",
              "0  precision score     0.770854    0.772071\n",
              "1     recall score     0.644733    0.643981\n",
              "2         f1 score     0.692388    0.693431\n",
              "3    roc_auc score     0.785615    0.791515"
            ]
          },
          "execution_count": 72,
          "metadata": {},
          "output_type": "execute_result"
        }
      ],
      "source": [
        "# Logistic Regression.\n",
        "lr=LogisticRegression(class_weight='balanced')\n",
        "# Training and Collecting the results for the classifier.\n",
        "results=model_results(lr,X_tr,y_train,X_te,y_test)\n",
        "results"
      ]
    },
    {
      "cell_type": "markdown",
      "metadata": {
        "id": "y7ttoj0gmOOG"
      },
      "source": [
        "**Inference** : \n",
        "*   The training and test scores for Logistic Regression don't differ much so the model is not overfitting or underfitting.\n",
        "*   The Logistic Regression gives test score of precison as 0.772 and roc_auc as 0.791 ,but recall score is low which is 0.643, thus f1 score is low which is 0.693.\n",
        "*   It is able to correctly classify 7164 points out of 9836 of class 0.\n",
        "*   It is able to correctly classify 291 points out of 475 of class 2 which is a minority class, but it classified only 607 points out of 2208 of class 1.\n"
      ]
    },
    {
      "cell_type": "code",
      "execution_count": null,
      "metadata": {
        "colab": {
          "base_uri": "https://localhost:8080/"
        },
        "id": "AcvShBRSSVSW",
        "outputId": "c2829200-6327-4f6f-a1a2-f6ad7a357e42"
      },
      "outputs": [
        {
          "name": "stdout",
          "output_type": "stream",
          "text": [
            "{'C': 10}\n"
          ]
        }
      ],
      "source": [
        "# Hyper parameter tuning.\n",
        "lr=LogisticRegression(class_weight='balanced')\n",
        "parameters={'C':[0.0001,0.001,0.01,0.1,1,10,100,1000]}\n",
        "\n",
        "# Collecting best params for the classifier.\n",
        "best_params=model_best_params(lr,parameters,X_tr,y_train)\n",
        "print(best_params)"
      ]
    },
    {
      "cell_type": "code",
      "execution_count": null,
      "metadata": {
        "colab": {
          "base_uri": "https://localhost:8080/",
          "height": 437
        },
        "id": "ZgVbryIXSVSX",
        "outputId": "332e69a1-bc96-4ef1-c6c7-61e1f50fca37"
      },
      "outputs": [
        {
          "data": {
            "image/png": "[encoded data removed]",
            "text/plain": [
              "<Figure size 432x288 with 2 Axes>"
            ]
          },
          "metadata": {},
          "output_type": "display_data"
        },
        {
          "data": {
            "text/html": [
              "\n",
              "  <div id=\"df-2c4170e3-16aa-41ef-a550-c4060514154d\">\n",
              "    <div class=\"colab-df-container\">\n",
              "      <div>\n",
              "<style scoped>\n",
              "    .dataframe tbody tr th:only-of-type {\n",
              "        vertical-align: middle;\n",
              "    }\n",
              "\n",
              "    .dataframe tbody tr th {\n",
              "        vertical-align: top;\n",
              "    }\n",
              "\n",
              "    .dataframe thead th {\n",
              "        text-align: right;\n",
              "    }\n",
              "</style>\n",
              "<table border=\"1\" class=\"dataframe\">\n",
              "  <thead>\n",
              "    <tr style=\"text-align: right;\">\n",
              "      <th></th>\n",
              "      <th>Metrics</th>\n",
              "      <th>Train Score</th>\n",
              "      <th>Test Score</th>\n",
              "    </tr>\n",
              "  </thead>\n",
              "  <tbody>\n",
              "    <tr>\n",
              "      <th>0</th>\n",
              "      <td>precision score</td>\n",
              "      <td>0.770683</td>\n",
              "      <td>0.773442</td>\n",
              "    </tr>\n",
              "    <tr>\n",
              "      <th>1</th>\n",
              "      <td>recall score</td>\n",
              "      <td>0.642616</td>\n",
              "      <td>0.642623</td>\n",
              "    </tr>\n",
              "    <tr>\n",
              "      <th>2</th>\n",
              "      <td>f1 score</td>\n",
              "      <td>0.690956</td>\n",
              "      <td>0.693042</td>\n",
              "    </tr>\n",
              "    <tr>\n",
              "      <th>3</th>\n",
              "      <td>roc_auc score</td>\n",
              "      <td>0.785491</td>\n",
              "      <td>0.791737</td>\n",
              "    </tr>\n",
              "  </tbody>\n",
              "</table>\n",
              "</div>\n",
              "      <button class=\"colab-df-convert\" onclick=\"convertToInteractive('df-2c4170e3-16aa-41ef-a550-c4060514154d')\"\n",
              "              title=\"Convert this dataframe to an interactive table.\"\n",
              "              style=\"display:none;\">\n",
              "        \n",
              "  <svg xmlns=\"http://www.w3.org/2000/svg\" height=\"24px\"viewBox=\"0 0 24 24\"\n",
              "       width=\"24px\">\n",
              "    <path d=\"M0 0h24v24H0V0z\" fill=\"none\"/>\n",
              "    <path d=\"M18.56 5.44l.94 2.06.94-2.06 2.06-.94-2.06-.94-.94-2.06-.94 2.06-2.06.94zm-11 1L8.5 8.5l.94-2.06 2.06-.94-2.06-.94L8.5 2.5l-.94 2.06-2.06.94zm10 10l.94 2.06.94-2.06 2.06-.94-2.06-.94-.94-2.06-.94 2.06-2.06.94z\"/><path d=\"M17.41 7.96l-1.37-1.37c-.4-.4-.92-.59-1.43-.59-.52 0-1.04.2-1.43.59L10.3 9.45l-7.72 7.72c-.78.78-.78 2.05 0 2.83L4 21.41c.39.39.9.59 1.41.59.51 0 1.02-.2 1.41-.59l7.78-7.78 2.81-2.81c.8-.78.8-2.07 0-2.86zM5.41 20L4 18.59l7.72-7.72 1.47 1.35L5.41 20z\"/>\n",
              "  </svg>\n",
              "      </button>\n",
              "      \n",
              "  <style>\n",
              "    .colab-df-container {\n",
              "      display:flex;\n",
              "      flex-wrap:wrap;\n",
              "      gap: 12px;\n",
              "    }\n",
              "\n",
              "    .colab-df-convert {\n",
              "      background-color: #E8F0FE;\n",
              "      border: none;\n",
              "      border-radius: 50%;\n",
              "      cursor: pointer;\n",
              "      display: none;\n",
              "      fill: #1967D2;\n",
              "      height: 32px;\n",
              "      padding: 0 0 0 0;\n",
              "      width: 32px;\n",
              "    }\n",
              "\n",
              "    .colab-df-convert:hover {\n",
              "      background-color: #E2EBFA;\n",
              "      box-shadow: 0px 1px 2px rgba(60, 64, 67, 0.3), 0px 1px 3px 1px rgba(60, 64, 67, 0.15);\n",
              "      fill: #174EA6;\n",
              "    }\n",
              "\n",
              "    [theme=dark] .colab-df-convert {\n",
              "      background-color: #3B4455;\n",
              "      fill: #D2E3FC;\n",
              "    }\n",
              "\n",
              "    [theme=dark] .colab-df-convert:hover {\n",
              "      background-color: #434B5C;\n",
              "      box-shadow: 0px 1px 3px 1px rgba(0, 0, 0, 0.15);\n",
              "      filter: drop-shadow(0px 1px 2px rgba(0, 0, 0, 0.3));\n",
              "      fill: #FFFFFF;\n",
              "    }\n",
              "  </style>\n",
              "\n",
              "      <script>\n",
              "        const buttonEl =\n",
              "          document.querySelector('#df-2c4170e3-16aa-41ef-a550-c4060514154d button.colab-df-convert');\n",
              "        buttonEl.style.display =\n",
              "          google.colab.kernel.accessAllowed ? 'block' : 'none';\n",
              "\n",
              "        async function convertToInteractive(key) {\n",
              "          const element = document.querySelector('#df-2c4170e3-16aa-41ef-a550-c4060514154d');\n",
              "          const dataTable =\n",
              "            await google.colab.kernel.invokeFunction('convertToInteractive',\n",
              "                                                     [key], {});\n",
              "          if (!dataTable) return;\n",
              "\n",
              "          const docLinkHtml = 'Like what you see? Visit the ' +\n",
              "            '<a target=\"_blank\" href=https://colab.research.google.com/notebooks/data_table.ipynb>data table notebook</a>'\n",
              "            + ' to learn more about interactive tables.';\n",
              "          element.innerHTML = '';\n",
              "          dataTable['output_type'] = 'display_data';\n",
              "          await google.colab.output.renderOutput(dataTable, element);\n",
              "          const docLink = document.createElement('div');\n",
              "          docLink.innerHTML = docLinkHtml;\n",
              "          element.appendChild(docLink);\n",
              "        }\n",
              "      </script>\n",
              "    </div>\n",
              "  </div>\n",
              "  "
            ],
            "text/plain": [
              "           Metrics  Train Score  Test Score\n",
              "0  precision score     0.770683    0.773442\n",
              "1     recall score     0.642616    0.642623\n",
              "2         f1 score     0.690956    0.693042\n",
              "3    roc_auc score     0.785491    0.791737"
            ]
          },
          "execution_count": 74,
          "metadata": {},
          "output_type": "execute_result"
        }
      ],
      "source": [
        "# Training and collecting the results of the classifier with best params.\n",
        "best_lr=LogisticRegression(class_weight='balanced',C=10)\n",
        "best_lr_results=model_results(best_lr,X_tr,y_train,X_te,y_test)\n",
        "best_lr_results"
      ]
    },
    {
      "cell_type": "markdown",
      "metadata": {
        "id": "uDOdABCWm3t_"
      },
      "source": [
        "**Inference** : \n",
        "\n",
        "*   After HyperParameter Tuning also,the training and test scores don't differ much which is a good sign and results don't change much.\n",
        "*   It gives score of precison as 0.773 and roc_auc as 0.791 but recall score is low which is 0.642 and thus f1 score is also low which is 0.693.\n",
        "*   It is able to correctly classify 7132 points out of 9836 of class 1.\n",
        "*   It is able to correctly classify 291 points out of 475 of class 2, but it still classified only 622 points out of 2208."
      ]
    },
    {
      "cell_type": "markdown",
      "metadata": {
        "id": "T6hOPNKVVV19"
      },
      "source": [
        "### **Decision Tree Classifier**"
      ]
    },
    {
      "cell_type": "code",
      "execution_count": null,
      "metadata": {
        "colab": {
          "base_uri": "https://localhost:8080/",
          "height": 437
        },
        "id": "8Xt2jojEVV1-",
        "outputId": "bd0fabf5-0831-45f7-f030-c4ed7484eaa0"
      },
      "outputs": [
        {
          "data": {
            "image/png": "[encoded data removed]",
            "text/plain": [
              "<Figure size 432x288 with 2 Axes>"
            ]
          },
          "metadata": {},
          "output_type": "display_data"
        },
        {
          "data": {
            "text/html": [
              "\n",
              "  <div id=\"df-e058468f-5a56-49e9-a4df-8922f98f4a8e\">\n",
              "    <div class=\"colab-df-container\">\n",
              "      <div>\n",
              "<style scoped>\n",
              "    .dataframe tbody tr th:only-of-type {\n",
              "        vertical-align: middle;\n",
              "    }\n",
              "\n",
              "    .dataframe tbody tr th {\n",
              "        vertical-align: top;\n",
              "    }\n",
              "\n",
              "    .dataframe thead th {\n",
              "        text-align: right;\n",
              "    }\n",
              "</style>\n",
              "<table border=\"1\" class=\"dataframe\">\n",
              "  <thead>\n",
              "    <tr style=\"text-align: right;\">\n",
              "      <th></th>\n",
              "      <th>Metrics</th>\n",
              "      <th>Train Score</th>\n",
              "      <th>Test Score</th>\n",
              "    </tr>\n",
              "  </thead>\n",
              "  <tbody>\n",
              "    <tr>\n",
              "      <th>0</th>\n",
              "      <td>precision score</td>\n",
              "      <td>0.999721</td>\n",
              "      <td>0.723417</td>\n",
              "    </tr>\n",
              "    <tr>\n",
              "      <th>1</th>\n",
              "      <td>recall score</td>\n",
              "      <td>0.999720</td>\n",
              "      <td>0.716431</td>\n",
              "    </tr>\n",
              "    <tr>\n",
              "      <th>2</th>\n",
              "      <td>f1 score</td>\n",
              "      <td>0.999720</td>\n",
              "      <td>0.719846</td>\n",
              "    </tr>\n",
              "    <tr>\n",
              "      <th>3</th>\n",
              "      <td>roc_auc score</td>\n",
              "      <td>1.000000</td>\n",
              "      <td>0.620703</td>\n",
              "    </tr>\n",
              "  </tbody>\n",
              "</table>\n",
              "</div>\n",
              "      <button class=\"colab-df-convert\" onclick=\"convertToInteractive('df-e058468f-5a56-49e9-a4df-8922f98f4a8e')\"\n",
              "              title=\"Convert this dataframe to an interactive table.\"\n",
              "              style=\"display:none;\">\n",
              "        \n",
              "  <svg xmlns=\"http://www.w3.org/2000/svg\" height=\"24px\"viewBox=\"0 0 24 24\"\n",
              "       width=\"24px\">\n",
              "    <path d=\"M0 0h24v24H0V0z\" fill=\"none\"/>\n",
              "    <path d=\"M18.56 5.44l.94 2.06.94-2.06 2.06-.94-2.06-.94-.94-2.06-.94 2.06-2.06.94zm-11 1L8.5 8.5l.94-2.06 2.06-.94-2.06-.94L8.5 2.5l-.94 2.06-2.06.94zm10 10l.94 2.06.94-2.06 2.06-.94-2.06-.94-.94-2.06-.94 2.06-2.06.94z\"/><path d=\"M17.41 7.96l-1.37-1.37c-.4-.4-.92-.59-1.43-.59-.52 0-1.04.2-1.43.59L10.3 9.45l-7.72 7.72c-.78.78-.78 2.05 0 2.83L4 21.41c.39.39.9.59 1.41.59.51 0 1.02-.2 1.41-.59l7.78-7.78 2.81-2.81c.8-.78.8-2.07 0-2.86zM5.41 20L4 18.59l7.72-7.72 1.47 1.35L5.41 20z\"/>\n",
              "  </svg>\n",
              "      </button>\n",
              "      \n",
              "  <style>\n",
              "    .colab-df-container {\n",
              "      display:flex;\n",
              "      flex-wrap:wrap;\n",
              "      gap: 12px;\n",
              "    }\n",
              "\n",
              "    .colab-df-convert {\n",
              "      background-color: #E8F0FE;\n",
              "      border: none;\n",
              "      border-radius: 50%;\n",
              "      cursor: pointer;\n",
              "      display: none;\n",
              "      fill: #1967D2;\n",
              "      height: 32px;\n",
              "      padding: 0 0 0 0;\n",
              "      width: 32px;\n",
              "    }\n",
              "\n",
              "    .colab-df-convert:hover {\n",
              "      background-color: #E2EBFA;\n",
              "      box-shadow: 0px 1px 2px rgba(60, 64, 67, 0.3), 0px 1px 3px 1px rgba(60, 64, 67, 0.15);\n",
              "      fill: #174EA6;\n",
              "    }\n",
              "\n",
              "    [theme=dark] .colab-df-convert {\n",
              "      background-color: #3B4455;\n",
              "      fill: #D2E3FC;\n",
              "    }\n",
              "\n",
              "    [theme=dark] .colab-df-convert:hover {\n",
              "      background-color: #434B5C;\n",
              "      box-shadow: 0px 1px 3px 1px rgba(0, 0, 0, 0.15);\n",
              "      filter: drop-shadow(0px 1px 2px rgba(0, 0, 0, 0.3));\n",
              "      fill: #FFFFFF;\n",
              "    }\n",
              "  </style>\n",
              "\n",
              "      <script>\n",
              "        const buttonEl =\n",
              "          document.querySelector('#df-e058468f-5a56-49e9-a4df-8922f98f4a8e button.colab-df-convert');\n",
              "        buttonEl.style.display =\n",
              "          google.colab.kernel.accessAllowed ? 'block' : 'none';\n",
              "\n",
              "        async function convertToInteractive(key) {\n",
              "          const element = document.querySelector('#df-e058468f-5a56-49e9-a4df-8922f98f4a8e');\n",
              "          const dataTable =\n",
              "            await google.colab.kernel.invokeFunction('convertToInteractive',\n",
              "                                                     [key], {});\n",
              "          if (!dataTable) return;\n",
              "\n",
              "          const docLinkHtml = 'Like what you see? Visit the ' +\n",
              "            '<a target=\"_blank\" href=https://colab.research.google.com/notebooks/data_table.ipynb>data table notebook</a>'\n",
              "            + ' to learn more about interactive tables.';\n",
              "          element.innerHTML = '';\n",
              "          dataTable['output_type'] = 'display_data';\n",
              "          await google.colab.output.renderOutput(dataTable, element);\n",
              "          const docLink = document.createElement('div');\n",
              "          docLink.innerHTML = docLinkHtml;\n",
              "          element.appendChild(docLink);\n",
              "        }\n",
              "      </script>\n",
              "    </div>\n",
              "  </div>\n",
              "  "
            ],
            "text/plain": [
              "           Metrics  Train Score  Test Score\n",
              "0  precision score     0.999721    0.723417\n",
              "1     recall score     0.999720    0.716431\n",
              "2         f1 score     0.999720    0.719846\n",
              "3    roc_auc score     1.000000    0.620703"
            ]
          },
          "execution_count": 75,
          "metadata": {},
          "output_type": "execute_result"
        }
      ],
      "source": [
        "# Decision Tree.\n",
        "dt=DecisionTreeClassifier(class_weight='balanced')\n",
        "# Training and Collecting the results for the classifier.\n",
        "results=model_results(dt,X_tr,y_train,X_te,y_test)\n",
        "results"
      ]
    },
    {
      "cell_type": "markdown",
      "metadata": {
        "id": "sVvje0sCoVna"
      },
      "source": [
        "**Inference** : \n",
        "*   The difference between training and test scores of Decision Tree are still very large . The model gives very high scores for train set but not for test set , so it is clearly overfitting.\n",
        "*   The Decision Tree gives test score of precison as 0.723 and roc_auc as 0.620 ,recall score as 0.716, and f1 score as 0.719.\n",
        "*   It is able to correctly classify 8161 points out of 9836 of class 0.\n",
        "*   It is able to correctly classify 747 points out of 2208 of class 1 and only 61 points out of 475 of class 2."
      ]
    },
    {
      "cell_type": "code",
      "execution_count": null,
      "metadata": {
        "colab": {
          "base_uri": "https://localhost:8080/"
        },
        "id": "FSlFj7kNVV2A",
        "outputId": "e93c5da4-7bf3-41d1-c8ce-a7cd0a55a307"
      },
      "outputs": [
        {
          "name": "stdout",
          "output_type": "stream",
          "text": [
            "{'max_depth': 50, 'min_samples_split': 5}\n"
          ]
        }
      ],
      "source": [
        "# Hyper parameter tuning.\n",
        "dt=DecisionTreeClassifier(class_weight='balanced')\n",
        "parameters={'max_depth':[5,10,50,100],'min_samples_split':[5,10,100,500]}\n",
        "# Collecting best params for the classifier.\n",
        "best_params=model_best_params(dt,parameters,X_tr,y_train)\n",
        "print(best_params)"
      ]
    },
    {
      "cell_type": "code",
      "execution_count": null,
      "metadata": {
        "colab": {
          "base_uri": "https://localhost:8080/",
          "height": 437
        },
        "id": "aSIhDhDEVV2B",
        "outputId": "1d6597db-84d0-4a25-b989-5de1a3113a5d"
      },
      "outputs": [
        {
          "data": {
            "image/png": "[encoded data removed]",
            "text/plain": [
              "<Figure size 432x288 with 2 Axes>"
            ]
          },
          "metadata": {},
          "output_type": "display_data"
        },
        {
          "data": {
            "text/html": [
              "\n",
              "  <div id=\"df-0b8e9d27-38a8-4378-ba4f-fbae7b7094b5\">\n",
              "    <div class=\"colab-df-container\">\n",
              "      <div>\n",
              "<style scoped>\n",
              "    .dataframe tbody tr th:only-of-type {\n",
              "        vertical-align: middle;\n",
              "    }\n",
              "\n",
              "    .dataframe tbody tr th {\n",
              "        vertical-align: top;\n",
              "    }\n",
              "\n",
              "    .dataframe thead th {\n",
              "        text-align: right;\n",
              "    }\n",
              "</style>\n",
              "<table border=\"1\" class=\"dataframe\">\n",
              "  <thead>\n",
              "    <tr style=\"text-align: right;\">\n",
              "      <th></th>\n",
              "      <th>Metrics</th>\n",
              "      <th>Train Score</th>\n",
              "      <th>Test Score</th>\n",
              "    </tr>\n",
              "  </thead>\n",
              "  <tbody>\n",
              "    <tr>\n",
              "      <th>0</th>\n",
              "      <td>precision score</td>\n",
              "      <td>0.968409</td>\n",
              "      <td>0.725346</td>\n",
              "    </tr>\n",
              "    <tr>\n",
              "      <th>1</th>\n",
              "      <td>recall score</td>\n",
              "      <td>0.963275</td>\n",
              "      <td>0.700296</td>\n",
              "    </tr>\n",
              "    <tr>\n",
              "      <th>2</th>\n",
              "      <td>f1 score</td>\n",
              "      <td>0.964375</td>\n",
              "      <td>0.711906</td>\n",
              "    </tr>\n",
              "    <tr>\n",
              "      <th>3</th>\n",
              "      <td>roc_auc score</td>\n",
              "      <td>0.997526</td>\n",
              "      <td>0.632798</td>\n",
              "    </tr>\n",
              "  </tbody>\n",
              "</table>\n",
              "</div>\n",
              "      <button class=\"colab-df-convert\" onclick=\"convertToInteractive('df-0b8e9d27-38a8-4378-ba4f-fbae7b7094b5')\"\n",
              "              title=\"Convert this dataframe to an interactive table.\"\n",
              "              style=\"display:none;\">\n",
              "        \n",
              "  <svg xmlns=\"http://www.w3.org/2000/svg\" height=\"24px\"viewBox=\"0 0 24 24\"\n",
              "       width=\"24px\">\n",
              "    <path d=\"M0 0h24v24H0V0z\" fill=\"none\"/>\n",
              "    <path d=\"M18.56 5.44l.94 2.06.94-2.06 2.06-.94-2.06-.94-.94-2.06-.94 2.06-2.06.94zm-11 1L8.5 8.5l.94-2.06 2.06-.94-2.06-.94L8.5 2.5l-.94 2.06-2.06.94zm10 10l.94 2.06.94-2.06 2.06-.94-2.06-.94-.94-2.06-.94 2.06-2.06.94z\"/><path d=\"M17.41 7.96l-1.37-1.37c-.4-.4-.92-.59-1.43-.59-.52 0-1.04.2-1.43.59L10.3 9.45l-7.72 7.72c-.78.78-.78 2.05 0 2.83L4 21.41c.39.39.9.59 1.41.59.51 0 1.02-.2 1.41-.59l7.78-7.78 2.81-2.81c.8-.78.8-2.07 0-2.86zM5.41 20L4 18.59l7.72-7.72 1.47 1.35L5.41 20z\"/>\n",
              "  </svg>\n",
              "      </button>\n",
              "      \n",
              "  <style>\n",
              "    .colab-df-container {\n",
              "      display:flex;\n",
              "      flex-wrap:wrap;\n",
              "      gap: 12px;\n",
              "    }\n",
              "\n",
              "    .colab-df-convert {\n",
              "      background-color: #E8F0FE;\n",
              "      border: none;\n",
              "      border-radius: 50%;\n",
              "      cursor: pointer;\n",
              "      display: none;\n",
              "      fill: #1967D2;\n",
              "      height: 32px;\n",
              "      padding: 0 0 0 0;\n",
              "      width: 32px;\n",
              "    }\n",
              "\n",
              "    .colab-df-convert:hover {\n",
              "      background-color: #E2EBFA;\n",
              "      box-shadow: 0px 1px 2px rgba(60, 64, 67, 0.3), 0px 1px 3px 1px rgba(60, 64, 67, 0.15);\n",
              "      fill: #174EA6;\n",
              "    }\n",
              "\n",
              "    [theme=dark] .colab-df-convert {\n",
              "      background-color: #3B4455;\n",
              "      fill: #D2E3FC;\n",
              "    }\n",
              "\n",
              "    [theme=dark] .colab-df-convert:hover {\n",
              "      background-color: #434B5C;\n",
              "      box-shadow: 0px 1px 3px 1px rgba(0, 0, 0, 0.15);\n",
              "      filter: drop-shadow(0px 1px 2px rgba(0, 0, 0, 0.3));\n",
              "      fill: #FFFFFF;\n",
              "    }\n",
              "  </style>\n",
              "\n",
              "      <script>\n",
              "        const buttonEl =\n",
              "          document.querySelector('#df-0b8e9d27-38a8-4378-ba4f-fbae7b7094b5 button.colab-df-convert');\n",
              "        buttonEl.style.display =\n",
              "          google.colab.kernel.accessAllowed ? 'block' : 'none';\n",
              "\n",
              "        async function convertToInteractive(key) {\n",
              "          const element = document.querySelector('#df-0b8e9d27-38a8-4378-ba4f-fbae7b7094b5');\n",
              "          const dataTable =\n",
              "            await google.colab.kernel.invokeFunction('convertToInteractive',\n",
              "                                                     [key], {});\n",
              "          if (!dataTable) return;\n",
              "\n",
              "          const docLinkHtml = 'Like what you see? Visit the ' +\n",
              "            '<a target=\"_blank\" href=https://colab.research.google.com/notebooks/data_table.ipynb>data table notebook</a>'\n",
              "            + ' to learn more about interactive tables.';\n",
              "          element.innerHTML = '';\n",
              "          dataTable['output_type'] = 'display_data';\n",
              "          await google.colab.output.renderOutput(dataTable, element);\n",
              "          const docLink = document.createElement('div');\n",
              "          docLink.innerHTML = docLinkHtml;\n",
              "          element.appendChild(docLink);\n",
              "        }\n",
              "      </script>\n",
              "    </div>\n",
              "  </div>\n",
              "  "
            ],
            "text/plain": [
              "           Metrics  Train Score  Test Score\n",
              "0  precision score     0.968409    0.725346\n",
              "1     recall score     0.963275    0.700296\n",
              "2         f1 score     0.964375    0.711906\n",
              "3    roc_auc score     0.997526    0.632798"
            ]
          },
          "execution_count": 77,
          "metadata": {},
          "output_type": "execute_result"
        }
      ],
      "source": [
        "# Training and collecting the results of the classifier with best params.\n",
        "best_dt=DecisionTreeClassifier(max_depth=50,min_samples_split=5,class_weight='balanced')\n",
        "best_dt_results=model_results(best_dt,X_tr,y_train,X_te,y_test)\n",
        "best_dt_results"
      ]
    },
    {
      "cell_type": "markdown",
      "metadata": {
        "id": "N6gj4oykoYcN"
      },
      "source": [
        "**Inference** : \n",
        "*   After hyperparameter tuning also ,the difference between training and test scores of Decision Tree are still very large . The model gives very high scores for train set but not for test set , so it is clearly overfitting.\n",
        "*   The Decision Tree gives test score of precison as 0.725 and roc_auc as 0.632 ,recall score as 0.70, and f1 score as 0.711.\n",
        "*   It is able to correctly classify 7905 points out of 9836 of class 0.\n",
        "*   It is able to correctly classify 787 points out of 2208 of class 1 and only 75 points out of 475 of class 2."
      ]
    },
    {
      "cell_type": "markdown",
      "metadata": {
        "id": "FCqKdA7WrGqJ"
      },
      "source": [
        "### **Note** : Due to increase in dimensionality, the Ensemble Models training time complexity increases so for these models we will only take interacted features."
      ]
    },
    {
      "cell_type": "code",
      "execution_count": null,
      "metadata": {
        "colab": {
          "base_uri": "https://localhost:8080/"
        },
        "id": "LXsqWZAgrGqK",
        "outputId": "02fcba22-1e98-400e-abef-9089ed0327d0"
      },
      "outputs": [
        {
          "name": "stdout",
          "output_type": "stream",
          "text": [
            "Train set shape : (50075, 34)\n",
            "Test set shape : (12519, 34)\n"
          ]
        }
      ],
      "source": [
        "from sklearn.preprocessing import PolynomialFeatures\n",
        "# Transforming features into polynomials of degree 5.\n",
        "pf_2=PolynomialFeatures(degree=5,interaction_only=True)\n",
        "## Fitting and transforming train features.\n",
        "train_numerical_pf=pf_2.fit_transform(train_set[numerical_features])\n",
        "## Transforming test features.\n",
        "test_numerical_pf=pf_2.transform(test_set[numerical_features])\n",
        "\n",
        "# Power Transformer to standardize and remove skewness.\n",
        "transformer=PowerTransformer(standardize=True)\n",
        "## Fitting and transforming train features.\n",
        "transformer.fit(train_numerical_pf)\n",
        "train_numerical_pt=transformer.transform(train_numerical_pf)\n",
        "## Transforming test features.\n",
        "test_numerical_pt=transformer.transform(test_numerical_pf)\n",
        "\n",
        "# Concatenating with one hot encoded train and test categorical features.\n",
        "X_tr_2=np.concatenate([train_numerical_pt,train_categorical],axis=1)\n",
        "X_te_2=np.concatenate([test_numerical_pt,test_categorical],axis=1)\n",
        "\n",
        "# Tain and Test sets shape.\n",
        "print('Train set shape :',X_tr.shape)\n",
        "print('Test set shape :',X_te.shape)"
      ]
    },
    {
      "cell_type": "markdown",
      "metadata": {
        "id": "Cj7pG73iaA2X"
      },
      "source": [
        "### **Random Forest**"
      ]
    },
    {
      "cell_type": "code",
      "execution_count": null,
      "metadata": {
        "colab": {
          "base_uri": "https://localhost:8080/",
          "height": 437
        },
        "id": "C9SiwlwZaA2Z",
        "outputId": "36501129-96c2-451e-fe4f-337be93b4272"
      },
      "outputs": [
        {
          "data": {
            "image/png": "[encoded data removed]",
            "text/plain": [
              "<Figure size 432x288 with 2 Axes>"
            ]
          },
          "metadata": {},
          "output_type": "display_data"
        },
        {
          "data": {
            "text/html": [
              "\n",
              "  <div id=\"df-0df35a8f-bc97-4f3e-8572-83037ea0e388\">\n",
              "    <div class=\"colab-df-container\">\n",
              "      <div>\n",
              "<style scoped>\n",
              "    .dataframe tbody tr th:only-of-type {\n",
              "        vertical-align: middle;\n",
              "    }\n",
              "\n",
              "    .dataframe tbody tr th {\n",
              "        vertical-align: top;\n",
              "    }\n",
              "\n",
              "    .dataframe thead th {\n",
              "        text-align: right;\n",
              "    }\n",
              "</style>\n",
              "<table border=\"1\" class=\"dataframe\">\n",
              "  <thead>\n",
              "    <tr style=\"text-align: right;\">\n",
              "      <th></th>\n",
              "      <th>Metrics</th>\n",
              "      <th>Train Score</th>\n",
              "      <th>Test Score</th>\n",
              "    </tr>\n",
              "  </thead>\n",
              "  <tbody>\n",
              "    <tr>\n",
              "      <th>0</th>\n",
              "      <td>precision score</td>\n",
              "      <td>0.999661</td>\n",
              "      <td>0.754910</td>\n",
              "    </tr>\n",
              "    <tr>\n",
              "      <th>1</th>\n",
              "      <td>recall score</td>\n",
              "      <td>0.999661</td>\n",
              "      <td>0.802860</td>\n",
              "    </tr>\n",
              "    <tr>\n",
              "      <th>2</th>\n",
              "      <td>f1 score</td>\n",
              "      <td>0.999661</td>\n",
              "      <td>0.761415</td>\n",
              "    </tr>\n",
              "    <tr>\n",
              "      <th>3</th>\n",
              "      <td>roc_auc score</td>\n",
              "      <td>0.999988</td>\n",
              "      <td>0.785895</td>\n",
              "    </tr>\n",
              "  </tbody>\n",
              "</table>\n",
              "</div>\n",
              "      <button class=\"colab-df-convert\" onclick=\"convertToInteractive('df-0df35a8f-bc97-4f3e-8572-83037ea0e388')\"\n",
              "              title=\"Convert this dataframe to an interactive table.\"\n",
              "              style=\"display:none;\">\n",
              "        \n",
              "  <svg xmlns=\"http://www.w3.org/2000/svg\" height=\"24px\"viewBox=\"0 0 24 24\"\n",
              "       width=\"24px\">\n",
              "    <path d=\"M0 0h24v24H0V0z\" fill=\"none\"/>\n",
              "    <path d=\"M18.56 5.44l.94 2.06.94-2.06 2.06-.94-2.06-.94-.94-2.06-.94 2.06-2.06.94zm-11 1L8.5 8.5l.94-2.06 2.06-.94-2.06-.94L8.5 2.5l-.94 2.06-2.06.94zm10 10l.94 2.06.94-2.06 2.06-.94-2.06-.94-.94-2.06-.94 2.06-2.06.94z\"/><path d=\"M17.41 7.96l-1.37-1.37c-.4-.4-.92-.59-1.43-.59-.52 0-1.04.2-1.43.59L10.3 9.45l-7.72 7.72c-.78.78-.78 2.05 0 2.83L4 21.41c.39.39.9.59 1.41.59.51 0 1.02-.2 1.41-.59l7.78-7.78 2.81-2.81c.8-.78.8-2.07 0-2.86zM5.41 20L4 18.59l7.72-7.72 1.47 1.35L5.41 20z\"/>\n",
              "  </svg>\n",
              "      </button>\n",
              "      \n",
              "  <style>\n",
              "    .colab-df-container {\n",
              "      display:flex;\n",
              "      flex-wrap:wrap;\n",
              "      gap: 12px;\n",
              "    }\n",
              "\n",
              "    .colab-df-convert {\n",
              "      background-color: #E8F0FE;\n",
              "      border: none;\n",
              "      border-radius: 50%;\n",
              "      cursor: pointer;\n",
              "      display: none;\n",
              "      fill: #1967D2;\n",
              "      height: 32px;\n",
              "      padding: 0 0 0 0;\n",
              "      width: 32px;\n",
              "    }\n",
              "\n",
              "    .colab-df-convert:hover {\n",
              "      background-color: #E2EBFA;\n",
              "      box-shadow: 0px 1px 2px rgba(60, 64, 67, 0.3), 0px 1px 3px 1px rgba(60, 64, 67, 0.15);\n",
              "      fill: #174EA6;\n",
              "    }\n",
              "\n",
              "    [theme=dark] .colab-df-convert {\n",
              "      background-color: #3B4455;\n",
              "      fill: #D2E3FC;\n",
              "    }\n",
              "\n",
              "    [theme=dark] .colab-df-convert:hover {\n",
              "      background-color: #434B5C;\n",
              "      box-shadow: 0px 1px 3px 1px rgba(0, 0, 0, 0.15);\n",
              "      filter: drop-shadow(0px 1px 2px rgba(0, 0, 0, 0.3));\n",
              "      fill: #FFFFFF;\n",
              "    }\n",
              "  </style>\n",
              "\n",
              "      <script>\n",
              "        const buttonEl =\n",
              "          document.querySelector('#df-0df35a8f-bc97-4f3e-8572-83037ea0e388 button.colab-df-convert');\n",
              "        buttonEl.style.display =\n",
              "          google.colab.kernel.accessAllowed ? 'block' : 'none';\n",
              "\n",
              "        async function convertToInteractive(key) {\n",
              "          const element = document.querySelector('#df-0df35a8f-bc97-4f3e-8572-83037ea0e388');\n",
              "          const dataTable =\n",
              "            await google.colab.kernel.invokeFunction('convertToInteractive',\n",
              "                                                     [key], {});\n",
              "          if (!dataTable) return;\n",
              "\n",
              "          const docLinkHtml = 'Like what you see? Visit the ' +\n",
              "            '<a target=\"_blank\" href=https://colab.research.google.com/notebooks/data_table.ipynb>data table notebook</a>'\n",
              "            + ' to learn more about interactive tables.';\n",
              "          element.innerHTML = '';\n",
              "          dataTable['output_type'] = 'display_data';\n",
              "          await google.colab.output.renderOutput(dataTable, element);\n",
              "          const docLink = document.createElement('div');\n",
              "          docLink.innerHTML = docLinkHtml;\n",
              "          element.appendChild(docLink);\n",
              "        }\n",
              "      </script>\n",
              "    </div>\n",
              "  </div>\n",
              "  "
            ],
            "text/plain": [
              "           Metrics  Train Score  Test Score\n",
              "0  precision score     0.999661    0.754910\n",
              "1     recall score     0.999661    0.802860\n",
              "2         f1 score     0.999661    0.761415\n",
              "3    roc_auc score     0.999988    0.785895"
            ]
          },
          "execution_count": 81,
          "metadata": {},
          "output_type": "execute_result"
        }
      ],
      "source": [
        "# Random Forest.\n",
        "rf=RandomForestClassifier(class_weight='balanced',n_jobs=-1)\n",
        "# Training and Collecting the results for the classifier.\n",
        "results=model_results(rf,X_tr_2,y_train,X_te_2,y_test)\n",
        "results"
      ]
    },
    {
      "cell_type": "markdown",
      "metadata": {
        "id": "i5EXwymRpN1L"
      },
      "source": [
        "**Inference** : \n",
        "*   The difference between training and test scores of Random Forest are very large. The model gives very high scores for train set but not for test set , so it is clearly overfitting.\n",
        "*   The Random Forest gives test score of precison as 0.754 and roc_auc as 0.785 ,recall score as 0.802, and f1 score as 0.761.\n",
        "*   It is able to correctly classify 9506 points out of 9836 of class 0 which is great job done.\n",
        "*   It is able to correctly classify 532 points out of 2208 of class 1 and only 13 points out of 475 of class 2."
      ]
    },
    {
      "cell_type": "code",
      "execution_count": null,
      "metadata": {
        "colab": {
          "base_uri": "https://localhost:8080/"
        },
        "id": "3bV-8OVVaA2a",
        "outputId": "8e8aab13-af74-4593-e2b8-c174d2cf9849"
      },
      "outputs": [
        {
          "name": "stdout",
          "output_type": "stream",
          "text": [
            "{'min_samples_split': 10, 'n_estimators': 500}\n"
          ]
        }
      ],
      "source": [
        "# Hyper parameter tuning.\n",
        "rf=RandomForestClassifier(class_weight='balanced',n_jobs=-1)\n",
        "parameters = {'n_estimators':[10,100,200,500],'min_samples_split': [10,50,100,500]}\n",
        "# Collecting best params for the classifier.\n",
        "best_params=model_best_params(rf,parameters,X_tr_2,y_train)\n",
        "print(best_params)"
      ]
    },
    {
      "cell_type": "code",
      "execution_count": null,
      "metadata": {
        "colab": {
          "base_uri": "https://localhost:8080/",
          "height": 437
        },
        "id": "WBBkrEovaA2b",
        "outputId": "86f2bcc6-32c9-4f4f-deb9-9a314d6030d4"
      },
      "outputs": [
        {
          "data": {
            "image/png": "[encoded data removed]",
            "text/plain": [
              "<Figure size 432x288 with 2 Axes>"
            ]
          },
          "metadata": {},
          "output_type": "display_data"
        },
        {
          "data": {
            "text/html": [
              "\n",
              "  <div id=\"df-69e1d7fd-8577-4cd6-b254-a89512db6266\">\n",
              "    <div class=\"colab-df-container\">\n",
              "      <div>\n",
              "<style scoped>\n",
              "    .dataframe tbody tr th:only-of-type {\n",
              "        vertical-align: middle;\n",
              "    }\n",
              "\n",
              "    .dataframe tbody tr th {\n",
              "        vertical-align: top;\n",
              "    }\n",
              "\n",
              "    .dataframe thead th {\n",
              "        text-align: right;\n",
              "    }\n",
              "</style>\n",
              "<table border=\"1\" class=\"dataframe\">\n",
              "  <thead>\n",
              "    <tr style=\"text-align: right;\">\n",
              "      <th></th>\n",
              "      <th>Metrics</th>\n",
              "      <th>Train Score</th>\n",
              "      <th>Test Score</th>\n",
              "    </tr>\n",
              "  </thead>\n",
              "  <tbody>\n",
              "    <tr>\n",
              "      <th>0</th>\n",
              "      <td>precision score</td>\n",
              "      <td>0.961501</td>\n",
              "      <td>0.765854</td>\n",
              "    </tr>\n",
              "    <tr>\n",
              "      <th>1</th>\n",
              "      <td>recall score</td>\n",
              "      <td>0.957644</td>\n",
              "      <td>0.782171</td>\n",
              "    </tr>\n",
              "    <tr>\n",
              "      <th>2</th>\n",
              "      <td>f1 score</td>\n",
              "      <td>0.958608</td>\n",
              "      <td>0.773195</td>\n",
              "    </tr>\n",
              "    <tr>\n",
              "      <th>3</th>\n",
              "      <td>roc_auc score</td>\n",
              "      <td>0.986367</td>\n",
              "      <td>0.801142</td>\n",
              "    </tr>\n",
              "  </tbody>\n",
              "</table>\n",
              "</div>\n",
              "      <button class=\"colab-df-convert\" onclick=\"convertToInteractive('df-69e1d7fd-8577-4cd6-b254-a89512db6266')\"\n",
              "              title=\"Convert this dataframe to an interactive table.\"\n",
              "              style=\"display:none;\">\n",
              "        \n",
              "  <svg xmlns=\"http://www.w3.org/2000/svg\" height=\"24px\"viewBox=\"0 0 24 24\"\n",
              "       width=\"24px\">\n",
              "    <path d=\"M0 0h24v24H0V0z\" fill=\"none\"/>\n",
              "    <path d=\"M18.56 5.44l.94 2.06.94-2.06 2.06-.94-2.06-.94-.94-2.06-.94 2.06-2.06.94zm-11 1L8.5 8.5l.94-2.06 2.06-.94-2.06-.94L8.5 2.5l-.94 2.06-2.06.94zm10 10l.94 2.06.94-2.06 2.06-.94-2.06-.94-.94-2.06-.94 2.06-2.06.94z\"/><path d=\"M17.41 7.96l-1.37-1.37c-.4-.4-.92-.59-1.43-.59-.52 0-1.04.2-1.43.59L10.3 9.45l-7.72 7.72c-.78.78-.78 2.05 0 2.83L4 21.41c.39.39.9.59 1.41.59.51 0 1.02-.2 1.41-.59l7.78-7.78 2.81-2.81c.8-.78.8-2.07 0-2.86zM5.41 20L4 18.59l7.72-7.72 1.47 1.35L5.41 20z\"/>\n",
              "  </svg>\n",
              "      </button>\n",
              "      \n",
              "  <style>\n",
              "    .colab-df-container {\n",
              "      display:flex;\n",
              "      flex-wrap:wrap;\n",
              "      gap: 12px;\n",
              "    }\n",
              "\n",
              "    .colab-df-convert {\n",
              "      background-color: #E8F0FE;\n",
              "      border: none;\n",
              "      border-radius: 50%;\n",
              "      cursor: pointer;\n",
              "      display: none;\n",
              "      fill: #1967D2;\n",
              "      height: 32px;\n",
              "      padding: 0 0 0 0;\n",
              "      width: 32px;\n",
              "    }\n",
              "\n",
              "    .colab-df-convert:hover {\n",
              "      background-color: #E2EBFA;\n",
              "      box-shadow: 0px 1px 2px rgba(60, 64, 67, 0.3), 0px 1px 3px 1px rgba(60, 64, 67, 0.15);\n",
              "      fill: #174EA6;\n",
              "    }\n",
              "\n",
              "    [theme=dark] .colab-df-convert {\n",
              "      background-color: #3B4455;\n",
              "      fill: #D2E3FC;\n",
              "    }\n",
              "\n",
              "    [theme=dark] .colab-df-convert:hover {\n",
              "      background-color: #434B5C;\n",
              "      box-shadow: 0px 1px 3px 1px rgba(0, 0, 0, 0.15);\n",
              "      filter: drop-shadow(0px 1px 2px rgba(0, 0, 0, 0.3));\n",
              "      fill: #FFFFFF;\n",
              "    }\n",
              "  </style>\n",
              "\n",
              "      <script>\n",
              "        const buttonEl =\n",
              "          document.querySelector('#df-69e1d7fd-8577-4cd6-b254-a89512db6266 button.colab-df-convert');\n",
              "        buttonEl.style.display =\n",
              "          google.colab.kernel.accessAllowed ? 'block' : 'none';\n",
              "\n",
              "        async function convertToInteractive(key) {\n",
              "          const element = document.querySelector('#df-69e1d7fd-8577-4cd6-b254-a89512db6266');\n",
              "          const dataTable =\n",
              "            await google.colab.kernel.invokeFunction('convertToInteractive',\n",
              "                                                     [key], {});\n",
              "          if (!dataTable) return;\n",
              "\n",
              "          const docLinkHtml = 'Like what you see? Visit the ' +\n",
              "            '<a target=\"_blank\" href=https://colab.research.google.com/notebooks/data_table.ipynb>data table notebook</a>'\n",
              "            + ' to learn more about interactive tables.';\n",
              "          element.innerHTML = '';\n",
              "          dataTable['output_type'] = 'display_data';\n",
              "          await google.colab.output.renderOutput(dataTable, element);\n",
              "          const docLink = document.createElement('div');\n",
              "          docLink.innerHTML = docLinkHtml;\n",
              "          element.appendChild(docLink);\n",
              "        }\n",
              "      </script>\n",
              "    </div>\n",
              "  </div>\n",
              "  "
            ],
            "text/plain": [
              "           Metrics  Train Score  Test Score\n",
              "0  precision score     0.961501    0.765854\n",
              "1     recall score     0.957644    0.782171\n",
              "2         f1 score     0.958608    0.773195\n",
              "3    roc_auc score     0.986367    0.801142"
            ]
          },
          "execution_count": 83,
          "metadata": {},
          "output_type": "execute_result"
        }
      ],
      "source": [
        "# Training and collecting the results of the classifier with best params.\n",
        "best_rf=RandomForestClassifier(n_estimators=500,min_samples_split=10,class_weight='balanced',n_jobs=-1)\n",
        "results=model_results(best_rf,X_tr_2,y_train,X_te_2,y_test)\n",
        "results"
      ]
    },
    {
      "cell_type": "markdown",
      "metadata": {
        "id": "_9TefdNhpsep"
      },
      "source": [
        "**Inference** : \n",
        "*   After Hyperparameter tuning also, the difference between training and test scores of Random Forest are very large. The model gives very high scores for train set but not for test set , so it is clearly overfitting.\n",
        "*   The Random Forest gives test score of precison as 0.765 and roc_auc as 0.801 ,recall score as 0.782, and f1 score as 0.773.\n",
        "*   It is able to correctly classify 8809 points out of 9836 of class 0 which is great job done.\n",
        "*   It is able to correctly classify 943 points out of 2208 of class 1 and only 40 points out of 475 of class 2."
      ]
    },
    {
      "cell_type": "markdown",
      "metadata": {
        "id": "IcuFT2L3xlzL"
      },
      "source": [
        "### **XGBoost**"
      ]
    },
    {
      "cell_type": "code",
      "execution_count": null,
      "metadata": {
        "colab": {
          "base_uri": "https://localhost:8080/",
          "height": 437
        },
        "id": "qRm9145mxlzM",
        "outputId": "d7821c6b-4c4d-4083-93eb-005377594131"
      },
      "outputs": [
        {
          "data": {
            "image/png": "[encoded data removed]",
            "text/plain": [
              "<Figure size 432x288 with 2 Axes>"
            ]
          },
          "metadata": {},
          "output_type": "display_data"
        },
        {
          "data": {
            "text/html": [
              "\n",
              "  <div id=\"df-4a48c920-9149-4e5d-9bea-1373b192f2aa\">\n",
              "    <div class=\"colab-df-container\">\n",
              "      <div>\n",
              "<style scoped>\n",
              "    .dataframe tbody tr th:only-of-type {\n",
              "        vertical-align: middle;\n",
              "    }\n",
              "\n",
              "    .dataframe tbody tr th {\n",
              "        vertical-align: top;\n",
              "    }\n",
              "\n",
              "    .dataframe thead th {\n",
              "        text-align: right;\n",
              "    }\n",
              "</style>\n",
              "<table border=\"1\" class=\"dataframe\">\n",
              "  <thead>\n",
              "    <tr style=\"text-align: right;\">\n",
              "      <th></th>\n",
              "      <th>Metrics</th>\n",
              "      <th>Train Score</th>\n",
              "      <th>Test Score</th>\n",
              "    </tr>\n",
              "  </thead>\n",
              "  <tbody>\n",
              "    <tr>\n",
              "      <th>0</th>\n",
              "      <td>precision score</td>\n",
              "      <td>0.799838</td>\n",
              "      <td>0.759716</td>\n",
              "    </tr>\n",
              "    <tr>\n",
              "      <th>1</th>\n",
              "      <td>recall score</td>\n",
              "      <td>0.812641</td>\n",
              "      <td>0.810688</td>\n",
              "    </tr>\n",
              "    <tr>\n",
              "      <th>2</th>\n",
              "      <td>f1 score</td>\n",
              "      <td>0.758809</td>\n",
              "      <td>0.755614</td>\n",
              "    </tr>\n",
              "    <tr>\n",
              "      <th>3</th>\n",
              "      <td>roc_auc score</td>\n",
              "      <td>0.811398</td>\n",
              "      <td>0.814249</td>\n",
              "    </tr>\n",
              "  </tbody>\n",
              "</table>\n",
              "</div>\n",
              "      <button class=\"colab-df-convert\" onclick=\"convertToInteractive('df-4a48c920-9149-4e5d-9bea-1373b192f2aa')\"\n",
              "              title=\"Convert this dataframe to an interactive table.\"\n",
              "              style=\"display:none;\">\n",
              "        \n",
              "  <svg xmlns=\"http://www.w3.org/2000/svg\" height=\"24px\"viewBox=\"0 0 24 24\"\n",
              "       width=\"24px\">\n",
              "    <path d=\"M0 0h24v24H0V0z\" fill=\"none\"/>\n",
              "    <path d=\"M18.56 5.44l.94 2.06.94-2.06 2.06-.94-2.06-.94-.94-2.06-.94 2.06-2.06.94zm-11 1L8.5 8.5l.94-2.06 2.06-.94-2.06-.94L8.5 2.5l-.94 2.06-2.06.94zm10 10l.94 2.06.94-2.06 2.06-.94-2.06-.94-.94-2.06-.94 2.06-2.06.94z\"/><path d=\"M17.41 7.96l-1.37-1.37c-.4-.4-.92-.59-1.43-.59-.52 0-1.04.2-1.43.59L10.3 9.45l-7.72 7.72c-.78.78-.78 2.05 0 2.83L4 21.41c.39.39.9.59 1.41.59.51 0 1.02-.2 1.41-.59l7.78-7.78 2.81-2.81c.8-.78.8-2.07 0-2.86zM5.41 20L4 18.59l7.72-7.72 1.47 1.35L5.41 20z\"/>\n",
              "  </svg>\n",
              "      </button>\n",
              "      \n",
              "  <style>\n",
              "    .colab-df-container {\n",
              "      display:flex;\n",
              "      flex-wrap:wrap;\n",
              "      gap: 12px;\n",
              "    }\n",
              "\n",
              "    .colab-df-convert {\n",
              "      background-color: #E8F0FE;\n",
              "      border: none;\n",
              "      border-radius: 50%;\n",
              "      cursor: pointer;\n",
              "      display: none;\n",
              "      fill: #1967D2;\n",
              "      height: 32px;\n",
              "      padding: 0 0 0 0;\n",
              "      width: 32px;\n",
              "    }\n",
              "\n",
              "    .colab-df-convert:hover {\n",
              "      background-color: #E2EBFA;\n",
              "      box-shadow: 0px 1px 2px rgba(60, 64, 67, 0.3), 0px 1px 3px 1px rgba(60, 64, 67, 0.15);\n",
              "      fill: #174EA6;\n",
              "    }\n",
              "\n",
              "    [theme=dark] .colab-df-convert {\n",
              "      background-color: #3B4455;\n",
              "      fill: #D2E3FC;\n",
              "    }\n",
              "\n",
              "    [theme=dark] .colab-df-convert:hover {\n",
              "      background-color: #434B5C;\n",
              "      box-shadow: 0px 1px 3px 1px rgba(0, 0, 0, 0.15);\n",
              "      filter: drop-shadow(0px 1px 2px rgba(0, 0, 0, 0.3));\n",
              "      fill: #FFFFFF;\n",
              "    }\n",
              "  </style>\n",
              "\n",
              "      <script>\n",
              "        const buttonEl =\n",
              "          document.querySelector('#df-4a48c920-9149-4e5d-9bea-1373b192f2aa button.colab-df-convert');\n",
              "        buttonEl.style.display =\n",
              "          google.colab.kernel.accessAllowed ? 'block' : 'none';\n",
              "\n",
              "        async function convertToInteractive(key) {\n",
              "          const element = document.querySelector('#df-4a48c920-9149-4e5d-9bea-1373b192f2aa');\n",
              "          const dataTable =\n",
              "            await google.colab.kernel.invokeFunction('convertToInteractive',\n",
              "                                                     [key], {});\n",
              "          if (!dataTable) return;\n",
              "\n",
              "          const docLinkHtml = 'Like what you see? Visit the ' +\n",
              "            '<a target=\"_blank\" href=https://colab.research.google.com/notebooks/data_table.ipynb>data table notebook</a>'\n",
              "            + ' to learn more about interactive tables.';\n",
              "          element.innerHTML = '';\n",
              "          dataTable['output_type'] = 'display_data';\n",
              "          await google.colab.output.renderOutput(dataTable, element);\n",
              "          const docLink = document.createElement('div');\n",
              "          docLink.innerHTML = docLinkHtml;\n",
              "          element.appendChild(docLink);\n",
              "        }\n",
              "      </script>\n",
              "    </div>\n",
              "  </div>\n",
              "  "
            ],
            "text/plain": [
              "           Metrics  Train Score  Test Score\n",
              "0  precision score     0.799838    0.759716\n",
              "1     recall score     0.812641    0.810688\n",
              "2         f1 score     0.758809    0.755614\n",
              "3    roc_auc score     0.811398    0.814249"
            ]
          },
          "execution_count": 84,
          "metadata": {},
          "output_type": "execute_result"
        }
      ],
      "source": [
        "# XGBoost.\n",
        "xgb=XGBClassifier(class_weight='balanced')\n",
        "# Training and Collecting the results for the classifier.\n",
        "results=model_results(xgb,X_tr_2,y_train,X_te_2,y_test)\n",
        "results"
      ]
    },
    {
      "cell_type": "markdown",
      "metadata": {
        "id": "M1pnBnCrqLkG"
      },
      "source": [
        "**Inference** : \n",
        "*   The training and test scores for XGBoost don't differ much so the model is not overfitting or underfitting.\n",
        "*   The XGBoost gives test score of precison as 0.759 and roc_auc as 0.814 ,recall score as 0.810, and f1 score as 0.755.\n",
        "*   It is able to correctly classify 9734 points out of 9836 of class 0 which is a great job done.\n",
        "*   It is able to correctly classify 415 points out of 2208 of class 1, but no points of class 2 have been classified which is not a good sign."
      ]
    },
    {
      "cell_type": "code",
      "execution_count": null,
      "metadata": {
        "colab": {
          "background_save": true
        },
        "id": "3yf6SxXGxlzM",
        "outputId": "b33d26ba-02b9-44d4-c69f-f34a54f9f0c1"
      },
      "outputs": [
        {
          "name": "stdout",
          "output_type": "stream",
          "text": [
            "{'learning_rate': 0.1, 'n_estimators': 200}\n"
          ]
        }
      ],
      "source": [
        "# Hyper parameter tuning.\n",
        "xgb=XGBClassifier(class_weight='balanced')\n",
        "parameters={'n_estimators':[10,100,200,500],'learning_rate':[0.001,0.01,0.1,0.5]}\n",
        "# Collecting best params for the classifier.\n",
        "best_params=model_best_params(xgb,parameters,X_tr_2,y_train)\n",
        "print(best_params)"
      ]
    },
    {
      "cell_type": "code",
      "execution_count": null,
      "metadata": {
        "colab": {
          "base_uri": "https://localhost:8080/",
          "height": 437
        },
        "id": "bFs4quE9xlzN",
        "outputId": "5055d168-937b-4d12-8e36-ddf4d4b38ff8"
      },
      "outputs": [
        {
          "output_type": "display_data",
          "data": {
            "text/plain": [
              "<Figure size 432x288 with 2 Axes>"
            ],
            "image/png": "[encoded data removed]"
          },
          "metadata": {
            "needs_background": "light"
          }
        },
        {
          "output_type": "execute_result",
          "data": {
            "text/plain": [
              "           Metrics  Train Score  Test Score\n",
              "0  precision score     0.797949    0.772427\n",
              "1     recall score     0.815617    0.812924\n",
              "2         f1 score     0.766658    0.762432\n",
              "3    roc_auc score     0.819763    0.816830"
            ],
            "text/html": [
              "\n",
              "  <div id=\"df-bd7e3fc1-6c65-4755-ace7-ca0a5702d82a\">\n",
              "    <div class=\"colab-df-container\">\n",
              "      <div>\n",
              "<style scoped>\n",
              "    .dataframe tbody tr th:only-of-type {\n",
              "        vertical-align: middle;\n",
              "    }\n",
              "\n",
              "    .dataframe tbody tr th {\n",
              "        vertical-align: top;\n",
              "    }\n",
              "\n",
              "    .dataframe thead th {\n",
              "        text-align: right;\n",
              "    }\n",
              "</style>\n",
              "<table border=\"1\" class=\"dataframe\">\n",
              "  <thead>\n",
              "    <tr style=\"text-align: right;\">\n",
              "      <th></th>\n",
              "      <th>Metrics</th>\n",
              "      <th>Train Score</th>\n",
              "      <th>Test Score</th>\n",
              "    </tr>\n",
              "  </thead>\n",
              "  <tbody>\n",
              "    <tr>\n",
              "      <th>0</th>\n",
              "      <td>precision score</td>\n",
              "      <td>0.797949</td>\n",
              "      <td>0.772427</td>\n",
              "    </tr>\n",
              "    <tr>\n",
              "      <th>1</th>\n",
              "      <td>recall score</td>\n",
              "      <td>0.815617</td>\n",
              "      <td>0.812924</td>\n",
              "    </tr>\n",
              "    <tr>\n",
              "      <th>2</th>\n",
              "      <td>f1 score</td>\n",
              "      <td>0.766658</td>\n",
              "      <td>0.762432</td>\n",
              "    </tr>\n",
              "    <tr>\n",
              "      <th>3</th>\n",
              "      <td>roc_auc score</td>\n",
              "      <td>0.819763</td>\n",
              "      <td>0.816830</td>\n",
              "    </tr>\n",
              "  </tbody>\n",
              "</table>\n",
              "</div>\n",
              "      <button class=\"colab-df-convert\" onclick=\"convertToInteractive('df-bd7e3fc1-6c65-4755-ace7-ca0a5702d82a')\"\n",
              "              title=\"Convert this dataframe to an interactive table.\"\n",
              "              style=\"display:none;\">\n",
              "        \n",
              "  <svg xmlns=\"http://www.w3.org/2000/svg\" height=\"24px\"viewBox=\"0 0 24 24\"\n",
              "       width=\"24px\">\n",
              "    <path d=\"M0 0h24v24H0V0z\" fill=\"none\"/>\n",
              "    <path d=\"M18.56 5.44l.94 2.06.94-2.06 2.06-.94-2.06-.94-.94-2.06-.94 2.06-2.06.94zm-11 1L8.5 8.5l.94-2.06 2.06-.94-2.06-.94L8.5 2.5l-.94 2.06-2.06.94zm10 10l.94 2.06.94-2.06 2.06-.94-2.06-.94-.94-2.06-.94 2.06-2.06.94z\"/><path d=\"M17.41 7.96l-1.37-1.37c-.4-.4-.92-.59-1.43-.59-.52 0-1.04.2-1.43.59L10.3 9.45l-7.72 7.72c-.78.78-.78 2.05 0 2.83L4 21.41c.39.39.9.59 1.41.59.51 0 1.02-.2 1.41-.59l7.78-7.78 2.81-2.81c.8-.78.8-2.07 0-2.86zM5.41 20L4 18.59l7.72-7.72 1.47 1.35L5.41 20z\"/>\n",
              "  </svg>\n",
              "      </button>\n",
              "      \n",
              "  <style>\n",
              "    .colab-df-container {\n",
              "      display:flex;\n",
              "      flex-wrap:wrap;\n",
              "      gap: 12px;\n",
              "    }\n",
              "\n",
              "    .colab-df-convert {\n",
              "      background-color: #E8F0FE;\n",
              "      border: none;\n",
              "      border-radius: 50%;\n",
              "      cursor: pointer;\n",
              "      display: none;\n",
              "      fill: #1967D2;\n",
              "      height: 32px;\n",
              "      padding: 0 0 0 0;\n",
              "      width: 32px;\n",
              "    }\n",
              "\n",
              "    .colab-df-convert:hover {\n",
              "      background-color: #E2EBFA;\n",
              "      box-shadow: 0px 1px 2px rgba(60, 64, 67, 0.3), 0px 1px 3px 1px rgba(60, 64, 67, 0.15);\n",
              "      fill: #174EA6;\n",
              "    }\n",
              "\n",
              "    [theme=dark] .colab-df-convert {\n",
              "      background-color: #3B4455;\n",
              "      fill: #D2E3FC;\n",
              "    }\n",
              "\n",
              "    [theme=dark] .colab-df-convert:hover {\n",
              "      background-color: #434B5C;\n",
              "      box-shadow: 0px 1px 3px 1px rgba(0, 0, 0, 0.15);\n",
              "      filter: drop-shadow(0px 1px 2px rgba(0, 0, 0, 0.3));\n",
              "      fill: #FFFFFF;\n",
              "    }\n",
              "  </style>\n",
              "\n",
              "      <script>\n",
              "        const buttonEl =\n",
              "          document.querySelector('#df-bd7e3fc1-6c65-4755-ace7-ca0a5702d82a button.colab-df-convert');\n",
              "        buttonEl.style.display =\n",
              "          google.colab.kernel.accessAllowed ? 'block' : 'none';\n",
              "\n",
              "        async function convertToInteractive(key) {\n",
              "          const element = document.querySelector('#df-bd7e3fc1-6c65-4755-ace7-ca0a5702d82a');\n",
              "          const dataTable =\n",
              "            await google.colab.kernel.invokeFunction('convertToInteractive',\n",
              "                                                     [key], {});\n",
              "          if (!dataTable) return;\n",
              "\n",
              "          const docLinkHtml = 'Like what you see? Visit the ' +\n",
              "            '<a target=\"_blank\" href=https://colab.research.google.com/notebooks/data_table.ipynb>data table notebook</a>'\n",
              "            + ' to learn more about interactive tables.';\n",
              "          element.innerHTML = '';\n",
              "          dataTable['output_type'] = 'display_data';\n",
              "          await google.colab.output.renderOutput(dataTable, element);\n",
              "          const docLink = document.createElement('div');\n",
              "          docLink.innerHTML = docLinkHtml;\n",
              "          element.appendChild(docLink);\n",
              "        }\n",
              "      </script>\n",
              "    </div>\n",
              "  </div>\n",
              "  "
            ]
          },
          "metadata": {},
          "execution_count": 86
        }
      ],
      "source": [
        "# Training and collecting the results of the classifier with best params.\n",
        "best_xgb=XGBClassifier(n_estimators=200,learning_rate=0.1,class_weight='balanced')\n",
        "results=model_results(best_xgb,X_tr_2,y_train,X_te_2,y_test)\n",
        "results"
      ]
    },
    {
      "cell_type": "markdown",
      "metadata": {
        "id": "8xRuu1B1qLkH"
      },
      "source": [
        "**Inference** : \n",
        "*   After hypermeter tuning also, the training and test scores for XGBoost don't differ much so the model is not overfitting or underfitting.\n",
        "*   The XGBoost gives test score of precison as 0.772 and roc_auc as 0.816 ,recall score as 0.812, and f1 score as 0.762.\n",
        "*   It is able to correctly classify 9701 points out of 9836 of class 0 which is a great job done.\n",
        "*   It is able to correctly classify 475 points out of 2208 of class 1, but only 1 point of class 2 have been classified which is not a good sign."
      ]
    },
    {
      "cell_type": "markdown",
      "metadata": {
        "id": "kJdjYXsauQh0"
      },
      "source": [
        "## **Final Selected Model**"
      ]
    },
    {
      "cell_type": "markdown",
      "source": [
        "**Taking Scores into consideration, XGBoost outperforms all models , but it hardly classify 1 or 2 points corectly from the minority class. At other hand Logistic Regression being simplest model able to correctly classify most number of points from minority class other than any model. Also Logistic Regression is very easy to interpret , as it fits a hyperplane for a classification.So the final model selected is Logistic Regression**"
      ],
      "metadata": {
        "id": "l72E_1f66foi"
      }
    },
    {
      "cell_type": "code",
      "execution_count": null,
      "metadata": {
        "colab": {
          "base_uri": "https://localhost:8080/",
          "height": 437
        },
        "outputId": "e35a7a94-aa5e-43f7-b8fd-e5c8f49d76a6",
        "id": "aWO9tIt--C7n"
      },
      "outputs": [
        {
          "output_type": "display_data",
          "data": {
            "text/plain": [
              "<Figure size 432x288 with 2 Axes>"
            ],
            "image/png": "[encoded data removed]"
          },
          "metadata": {
            "needs_background": "light"
          }
        },
        {
          "output_type": "execute_result",
          "data": {
            "text/plain": [
              "           Metrics  Train Score  Test Score\n",
              "0  precision score     0.770683    0.773442\n",
              "1     recall score     0.642616    0.642623\n",
              "2         f1 score     0.690956    0.693042\n",
              "3    roc_auc score     0.785491    0.791737"
            ],
            "text/html": [
              "\n",
              "  <div id=\"df-920b745e-e3f7-49cf-a57c-c248d5e2aa4e\">\n",
              "    <div class=\"colab-df-container\">\n",
              "      <div>\n",
              "<style scoped>\n",
              "    .dataframe tbody tr th:only-of-type {\n",
              "        vertical-align: middle;\n",
              "    }\n",
              "\n",
              "    .dataframe tbody tr th {\n",
              "        vertical-align: top;\n",
              "    }\n",
              "\n",
              "    .dataframe thead th {\n",
              "        text-align: right;\n",
              "    }\n",
              "</style>\n",
              "<table border=\"1\" class=\"dataframe\">\n",
              "  <thead>\n",
              "    <tr style=\"text-align: right;\">\n",
              "      <th></th>\n",
              "      <th>Metrics</th>\n",
              "      <th>Train Score</th>\n",
              "      <th>Test Score</th>\n",
              "    </tr>\n",
              "  </thead>\n",
              "  <tbody>\n",
              "    <tr>\n",
              "      <th>0</th>\n",
              "      <td>precision score</td>\n",
              "      <td>0.770683</td>\n",
              "      <td>0.773442</td>\n",
              "    </tr>\n",
              "    <tr>\n",
              "      <th>1</th>\n",
              "      <td>recall score</td>\n",
              "      <td>0.642616</td>\n",
              "      <td>0.642623</td>\n",
              "    </tr>\n",
              "    <tr>\n",
              "      <th>2</th>\n",
              "      <td>f1 score</td>\n",
              "      <td>0.690956</td>\n",
              "      <td>0.693042</td>\n",
              "    </tr>\n",
              "    <tr>\n",
              "      <th>3</th>\n",
              "      <td>roc_auc score</td>\n",
              "      <td>0.785491</td>\n",
              "      <td>0.791737</td>\n",
              "    </tr>\n",
              "  </tbody>\n",
              "</table>\n",
              "</div>\n",
              "      <button class=\"colab-df-convert\" onclick=\"convertToInteractive('df-920b745e-e3f7-49cf-a57c-c248d5e2aa4e')\"\n",
              "              title=\"Convert this dataframe to an interactive table.\"\n",
              "              style=\"display:none;\">\n",
              "        \n",
              "  <svg xmlns=\"http://www.w3.org/2000/svg\" height=\"24px\"viewBox=\"0 0 24 24\"\n",
              "       width=\"24px\">\n",
              "    <path d=\"M0 0h24v24H0V0z\" fill=\"none\"/>\n",
              "    <path d=\"M18.56 5.44l.94 2.06.94-2.06 2.06-.94-2.06-.94-.94-2.06-.94 2.06-2.06.94zm-11 1L8.5 8.5l.94-2.06 2.06-.94-2.06-.94L8.5 2.5l-.94 2.06-2.06.94zm10 10l.94 2.06.94-2.06 2.06-.94-2.06-.94-.94-2.06-.94 2.06-2.06.94z\"/><path d=\"M17.41 7.96l-1.37-1.37c-.4-.4-.92-.59-1.43-.59-.52 0-1.04.2-1.43.59L10.3 9.45l-7.72 7.72c-.78.78-.78 2.05 0 2.83L4 21.41c.39.39.9.59 1.41.59.51 0 1.02-.2 1.41-.59l7.78-7.78 2.81-2.81c.8-.78.8-2.07 0-2.86zM5.41 20L4 18.59l7.72-7.72 1.47 1.35L5.41 20z\"/>\n",
              "  </svg>\n",
              "      </button>\n",
              "      \n",
              "  <style>\n",
              "    .colab-df-container {\n",
              "      display:flex;\n",
              "      flex-wrap:wrap;\n",
              "      gap: 12px;\n",
              "    }\n",
              "\n",
              "    .colab-df-convert {\n",
              "      background-color: #E8F0FE;\n",
              "      border: none;\n",
              "      border-radius: 50%;\n",
              "      cursor: pointer;\n",
              "      display: none;\n",
              "      fill: #1967D2;\n",
              "      height: 32px;\n",
              "      padding: 0 0 0 0;\n",
              "      width: 32px;\n",
              "    }\n",
              "\n",
              "    .colab-df-convert:hover {\n",
              "      background-color: #E2EBFA;\n",
              "      box-shadow: 0px 1px 2px rgba(60, 64, 67, 0.3), 0px 1px 3px 1px rgba(60, 64, 67, 0.15);\n",
              "      fill: #174EA6;\n",
              "    }\n",
              "\n",
              "    [theme=dark] .colab-df-convert {\n",
              "      background-color: #3B4455;\n",
              "      fill: #D2E3FC;\n",
              "    }\n",
              "\n",
              "    [theme=dark] .colab-df-convert:hover {\n",
              "      background-color: #434B5C;\n",
              "      box-shadow: 0px 1px 3px 1px rgba(0, 0, 0, 0.15);\n",
              "      filter: drop-shadow(0px 1px 2px rgba(0, 0, 0, 0.3));\n",
              "      fill: #FFFFFF;\n",
              "    }\n",
              "  </style>\n",
              "\n",
              "      <script>\n",
              "        const buttonEl =\n",
              "          document.querySelector('#df-920b745e-e3f7-49cf-a57c-c248d5e2aa4e button.colab-df-convert');\n",
              "        buttonEl.style.display =\n",
              "          google.colab.kernel.accessAllowed ? 'block' : 'none';\n",
              "\n",
              "        async function convertToInteractive(key) {\n",
              "          const element = document.querySelector('#df-920b745e-e3f7-49cf-a57c-c248d5e2aa4e');\n",
              "          const dataTable =\n",
              "            await google.colab.kernel.invokeFunction('convertToInteractive',\n",
              "                                                     [key], {});\n",
              "          if (!dataTable) return;\n",
              "\n",
              "          const docLinkHtml = 'Like what you see? Visit the ' +\n",
              "            '<a target=\"_blank\" href=https://colab.research.google.com/notebooks/data_table.ipynb>data table notebook</a>'\n",
              "            + ' to learn more about interactive tables.';\n",
              "          element.innerHTML = '';\n",
              "          dataTable['output_type'] = 'display_data';\n",
              "          await google.colab.output.renderOutput(dataTable, element);\n",
              "          const docLink = document.createElement('div');\n",
              "          docLink.innerHTML = docLinkHtml;\n",
              "          element.appendChild(docLink);\n",
              "        }\n",
              "      </script>\n",
              "    </div>\n",
              "  </div>\n",
              "  "
            ]
          },
          "metadata": {},
          "execution_count": 52
        }
      ],
      "source": [
        "# Logistic Regression\n",
        "final_model=LogisticRegression(class_weight='balanced',C=10)\n",
        "final_model_results=model_results(final_model,X_tr,y_train,X_te,y_test)\n",
        "final_model_results"
      ]
    },
    {
      "cell_type": "markdown",
      "source": [
        "**Feature Importance**\n",
        "*   We can derive feature importance from the coefficient of Logistic Regression.\n",
        "*   Note that coefficient will be of shape - (number of classes,total_features).\n",
        "*   To get the features which are important to classify points of class 0, we will look at the first array of coefficient. The more larger values of coefficients corresponding to features , then more the feature is important.\n",
        "*   Similarly we fetch the features which are important for classification of points belong to class 1 and class 2.\n",
        "\n"
      ],
      "metadata": {
        "id": "BiR-4zFF8MhM"
      }
    },
    {
      "cell_type": "code",
      "source": [
        "# Calculating Feature Importance.\n",
        "## Fetching one hot encoded feature names.\n",
        "ohe_features=list(ohe.get_feature_names_out())\n",
        "## Fetching polynomial feature names.\n",
        "pf_features=list(pf.get_feature_names_out())\n",
        "## Concatenating features to get the names of the total features.\n",
        "features=pf_features+ohe_features"
      ],
      "metadata": {
        "id": "ZliuoMjL_XqW"
      },
      "execution_count": null,
      "outputs": []
    },
    {
      "cell_type": "code",
      "source": [
        "def top_features(class_no,coef,features):\n",
        "  # Deriving Features important to classify given class points.\n",
        "  ## Creating list of tuples containg feature names with corresponding corfficient values.\n",
        "  features_with_importance=list(zip(coef,features))\n",
        "  ## Sorting with respect to values.\n",
        "  sorted_features_with_importance=sorted(features_with_importance,reverse=True)[:10]\n",
        "  ## Extracting feature names sorted according to coefficient values.\n",
        "  feature_names=[b for a,b in sorted_features_with_importance]\n",
        "  ## Extracting sorted coefficient values.\n",
        "  importance_values=[a for a,b in sorted_features_with_importance]\n",
        "  ## Plotting bar plot.\n",
        "  plt.figure(figsize=(10,8))\n",
        "  sns.barplot(y=feature_names,x=importance_values,palette='flare').set(title='Important features to classify class '+str(class_no))\n",
        "  plt.show()"
      ],
      "metadata": {
        "id": "-_N5E37KHYna"
      },
      "execution_count": null,
      "outputs": []
    },
    {
      "cell_type": "code",
      "source": [
        "# Features Important fo classification of class 0 points.\n",
        "coef_0=final_model.coef_[0]\n",
        "top_features(0,coef_0,features)"
      ],
      "metadata": {
        "colab": {
          "base_uri": "https://localhost:8080/",
          "height": 499
        },
        "id": "iBmYIBI3DuDS",
        "outputId": "6012ebcd-443b-4c82-9cde-a788143b2926"
      },
      "execution_count": null,
      "outputs": [
        {
          "output_type": "display_data",
          "data": {
            "text/plain": [
              "<Figure size 720x576 with 1 Axes>"
            ],
            "image/png": "[encoded data removed]"
          },
          "metadata": {
            "needs_background": "light"
          }
        }
      ]
    },
    {
      "cell_type": "markdown",
      "source": [
        "**Inference** : The \"Email_Campaign\" as \"Type_2\" is the most individual important feature for classification of class 0 points and rest important features are the combination of the polynomial of features."
      ],
      "metadata": {
        "id": "AoXJEN4sHE-n"
      }
    },
    {
      "cell_type": "code",
      "source": [
        "# Features Important fo classification of class 1 points.\n",
        "coef_1=final_model.coef_[1]\n",
        "top_features(1,coef_1,features)"
      ],
      "metadata": {
        "colab": {
          "base_uri": "https://localhost:8080/",
          "height": 467
        },
        "id": "ggSlcmbjD_5z",
        "outputId": "4fd0e47e-0250-4546-fab3-3ed43390f543"
      },
      "execution_count": null,
      "outputs": [
        {
          "output_type": "display_data",
          "data": {
            "text/plain": [
              "<Figure size 720x576 with 1 Axes>"
            ],
            "image/png": "[encoded data removed]"
          },
          "metadata": {
            "needs_background": "light"
          }
        }
      ]
    },
    {
      "cell_type": "markdown",
      "source": [
        "**Inference** : The \"Email_Campaign\" as \"Type_3\" and \"Subject_Hotness_Score\" are the most important individual features for classification of class 1 points and rest important features are the combination of the polynomial of features."
      ],
      "metadata": {
        "id": "qKgio8CeHwXp"
      }
    },
    {
      "cell_type": "code",
      "source": [
        "# Features Important fo classification of class 2 points.\n",
        "coef_2=final_model.coef_[2]\n",
        "top_features(2,coef_2,features)"
      ],
      "metadata": {
        "colab": {
          "base_uri": "https://localhost:8080/",
          "height": 489
        },
        "id": "JFDku8bGEC4f",
        "outputId": "9ee1e806-0a58-43c4-ea86-6de20590021b"
      },
      "execution_count": null,
      "outputs": [
        {
          "output_type": "display_data",
          "data": {
            "text/plain": [
              "<Figure size 720x576 with 1 Axes>"
            ],
            "image/png": "[encoded data removed]"
          },
          "metadata": {
            "needs_background": "light"
          }
        }
      ]
    },
    {
      "cell_type": "markdown",
      "source": [
        "**Inference** : The \"Email_Campaign\" as \"Type_1\" and \"Total_Link_Images\" are the most important individual features for classification of class 2 points and rest important features are the combination of the polynomial of features."
      ],
      "metadata": {
        "id": "jjWWjaYUIDnY"
      }
    },
    {
      "cell_type": "markdown",
      "source": [
        "**The \"Email_Campaign\" as a whole feature is the most important individual feature for classification. The other features \"Total_Past_Communications\",\"Word_Count\",\"Subject_Hotness_Score\",\"Total_Link_Images\" which is combination of \"Total_Links\" and 'Total_Images\", are next important features which are used in combinations of polynomials for classifications. So we can look upon these features to improve the business work.**"
      ],
      "metadata": {
        "id": "2nOzwWNxIhBs"
      }
    },
    {
      "cell_type": "markdown",
      "source": [
        "## **Summary**"
      ],
      "metadata": {
        "id": "S5ydx5u--QiT"
      }
    },
    {
      "cell_type": "markdown",
      "source": [
        "\n",
        "*   The objective is to create a machine learning model to characterize the mail that is ignored ; read ; acknowledged by the reader.\n",
        "*   There are total 12 features out of which the feature \"Email_Status \" is a response variable and rest are predictor variables.\n",
        "*   The features \"Customer_Location\", \"Total_Past_Communications\", \"Total_Links\" and \"Total_Images\" have missing values. We need to take care of these missing values.\n",
        "*   There are no duplicate rows in the dataset.\n",
        "*   There is high imbalance in class distribution of response variable. The majority of the data, 54941 data points which is 80.38 % belongs to \"class 0\", 11039 points which is 16.15 % belongs to class \"1\" and very small amount of data, 2373 data points which is 3.47% belongs to \"class 2\".\n",
        "*    The features \"Email_Type\", \"Email_Source_Type\", \"Email_Campaign_Type\" and \"Time_Email_sent_Category\" contains categorical information , so we have changed the datatype according to that.\n",
        "*   There were five categorical and numerical features each afterwards.\n",
        "*   The numerical features 'Subject_Hotness_Score','Total_Links' and  'Total_Images' were positively skewed.\n",
        "*   The Log, Square Root and Cube Root transformations used for removing skewness and these were able to remove the skewness , but Power transformation removed skewness outstandingly and also it standardize the data as well.\n",
        "*   All the numerical features except 'Word_Count' had outliers.\n",
        "*   The numerical features \"Total_Images\" and \"Total_Links\" were highly correlated with correlation value as 0.78.\n",
        "*   There are two subcategories under \"Email_Type\" and \"Email_Source_Type\" features, three subcategories under \"Email_Campaign_Type\" and \"Time_Email_Sent_Category\" features, and seven subcategories under \"Customer_Location\" feature.\n",
        "*   For the feature \"Email_Type\" ,there are more number of points of Type 1 rather than Type 2 .For \"Email_Source_Type\",there is slight difference in distribution of points of Type 1 and Type 2. For \"Customer_Location\", majority of the points belongs to category G. For \"Email_Campaign_Type\" , majority of the points belongs to Type 2. For the \"Time_Email_Sent_Category\" also, majority of the points belongs to Type 2.\n",
        "*  The \"Email_Id\" feature contains identity information. So dropping this feature.\n",
        "*  As there is high class imbalance and we have very few points of class \"2\" and class \"1\" , so we have removed only those outliers which belongs to class \"1\".\n",
        "*   We have used Iterative Imputer to fill missing values of numerical features and treating missing values of categorical feature as separate category using Simple Imputer.\n",
        "*   To remove collinearity combination of collinear features as a single feature have been taken.\n",
        "*   We have used Power Transformer for transforming numerical features as it helps in removing the skewness and standardizing as well and One hot Encoder for Categorical Features.\n",
        "*   The shape of Train Set becomes - (50075, 22) and Test Set Shape becomes =(12519, 22)\n",
        "*   There is high class imbalance in the dataset. To solve this we will provide different weights to both the majority and minority classes. The difference in weights will influence the classification of the classes during the training phase. The whole purpose is to penalize the misclassification made by the minority class by setting a higher class weight and at the same time reducing weight for the majority class. The weights can be assigned according to classes simply by using parameter \"class_weight\" as \"balanced\" while defining the machine learning models.\n",
        "*   There is high imbalance of classes in the dataset, and also our objective is to classify the mails as ignored ; read and acknowledged as correctly as possible to corresponding classes.So fo this task we will look upon weighted Precision,Recall and F1 score, as Precision and Recall account for true positives which is nothing but correctly classified points belonging to respective classes and F1 score is just harmonic mean of these two which is a combined single metric to look for. We will also look for ROC_AUC score.\n",
        "*   The objective is to classify the mails as ignored ; read and acknowledged. For this , we need to find the reasons why the mails being ignored , how many being read and finally how many being acknowledged.So wee need a model which can explain the reasons for classifications , so that we can improve the content for the mails such that mails could get read and acknowledged in the future which helps the owners stay connected with their prospective customers. The feature importance is also very important in this case as we need to know which are the most important features for classification, so we can focus on those to improve the content for mails.\n",
        "*  The training and test scores don't differ much for tuned Logistic Regression which is a good sign.\n",
        "It gives score of precision as 0.762 and roc_auc as 0.779 but recall score is low which is 0.629 and thus f1 score is also low which is 0.68.\n",
        "It is able to correctly classify 7010 points out of 9836 of class 1.\n",
        "It is able to correctly classify 298 points out of 475 of class 2, but it still classified only 569 points out of 2208.\n",
        "* The difference between training and test scores of tuned Decision Tree are very large . The model gives very high scores for train set but not for test set , so it is clearly overfitting.\n",
        "The Decision Tree gives test score of precision as 0.727 and roc_auc as 0.646 ,recall score as 0.684, and f1 score as 0.703.\n",
        "It is able to correctly classify 7664 points out of 9836 of class 0.\n",
        "It is able to correctly classify 846 points out of 2208 of class 1 and only 63 points out of 475 of class 2.\n",
        "* The difference between training and test scores of tuned Random Forest are very large. The model gives very high scores for train set but not for test set , so it is clearly overfitting.\n",
        "The Random Forest gives test score of precision as 0.747 and roc_auc as 0.777 ,recall score as 0.798, and f1 score as 0.758.\n",
        "It is able to correctly classify 9450 points out of 9836 of class 0 which is great job done.\n",
        "It is able to correctly classify 531 points out of 2208 of class 1 and only 13 points out of 475 of class 2.\n",
        "*  The training and test scores for XGBoost don't differ much so the model is not overfitting or underfitting.\n",
        "The XGBoost gives test score of precision as 0.768 and roc_auc as 0.819 ,recall score as 0.814, and f1 score as 0.768.\n",
        "It is able to correctly classify 9668 points out of 9836 of class 0 which is a great job done.\n",
        "It is able to correctly classify 532 points out of 2208 of class 1, but only 2 points of class 2 have been classified which is not a good sign.\n",
        "*   Then we have done Feature engineering by transforming numerical features into polynomials of degree 5.\n",
        "*   The training and test scores for tuned Logistic Regression don't differ much which is a good sign.\n",
        "It gives score of precision as 0.773 and roc_auc as 0.791 but recall score is low which is 0.642 and thus f1 score is also low which is 0.693.\n",
        "It is able to correctly classify 7132 points out of 9836 of class 1.\n",
        "It is able to correctly classify 291 points out of 475 of class 2, but it still classified only 622 points out of 2208.\n",
        "*   The difference between training and test scores of Decision Tree are very large . The model gives very high scores for train set but not for test set , so it is clearly overfitting.\n",
        "The Decision Tree gives test score of precision as 0.725 and roc_auc as 0.632 ,recall score as 0.70, and f1 score as 0.711.\n",
        "It is able to correctly classify 7905 points out of 9836 of class 0.\n",
        "It is able to correctly classify 787 points out of 2208 of class 1 and only 75 points out of 475 of class 2.\n",
        "*   The difference between training and test scores of Random Forest are very large. The model gives very high scores for train set but not for test set , so it is clearly overfitting.\n",
        "The Random Forest gives test score of precision as 0.765 and roc_auc as 0.801 ,recall score as 0.782, and f1 score as 0.773.\n",
        "It is able to correctly classify 8809 points out of 9836 of class 0 which is great job done.\n",
        "It is able to correctly classify 943 points out of 2208 of class 1 and only 40 points out of 475 of class 2.\n",
        "*  The training and test scores for XGBoost don't differ much so the model is not overfitting or underfitting.\n",
        "The XGBoost gives test score of precision as 0.772 and roc_auc as 0.816 ,recall score as 0.812, and f1 score as 0.762.\n",
        "It is able to correctly classify 9701 points out of 9836 of class 0 which is a great job done.\n",
        "It is able to correctly classify 475 points out of 2208 of class 1, but only 1 point of class 2 have been classified which is not a good sign."
      ],
      "metadata": {
        "id": "2j23wuihQYbm"
      }
    },
    {
      "cell_type": "markdown",
      "source": [
        "## **Conclusions**"
      ],
      "metadata": {
        "id": "Myr8rKdGiahX"
      }
    },
    {
      "cell_type": "markdown",
      "source": [
        "\n",
        "\n",
        "*   The final model selected is Logistic Regression.\n",
        "*   Taking Scores into consideration, XGBoost outperforms all models , but it hardly classify 1 or 2 points correctly from the minority class. At other hand Logistic Regression being simplest model able to correctly classify most number of points from minority class other than any model. Also Logistic Regression is very easy to interpret , as it fits a hyperplane for a classification.\n",
        "*   Also We can derive feature importance from the coefficient of Logistic Regression very easily.\n",
        "To get the features which are important to classify points of class 0, we will look at the first array of coefficient. The more larger values of coefficients corresponding to features , then more the feature is important.\n",
        "Similarly we fetch the features which are important for classification of points belong to class 1 and class 2.\n",
        "*   The \"Email_Campaign\" as a whole feature is the most important individual feature for classification. The other features \"Total_Past_Communications\",\"Word_Count\",\"Subject_Hotness_Score\",\"Total_Link_Images\" which is combination of \"Total_Links\" and 'Total_Images\", are next important features which are used in combinations of polynomials for classifications. So we can look upon these features to improve the business work."
      ],
      "metadata": {
        "id": "IeSlMlEK-X6Q"
      }
    },
    {
      "cell_type": "markdown",
      "source": [
        "## **Challenges Faced**"
      ],
      "metadata": {
        "id": "uz_t0BMEjwnt"
      }
    },
    {
      "cell_type": "markdown",
      "source": [
        "\n",
        "\n",
        "*   The dataset contains missing values.\n",
        "*   The dataset contains outliers.\n",
        "*   Some of the features mapped to wrong datatype.\n",
        "*   The dataset contains correlated features also.\n",
        "\n"
      ],
      "metadata": {
        "id": "Lm6JlqehkIe8"
      }
    }
  ],
  "metadata": {
    "colab": {
      "provenance": [],
      "mount_file_id": "1SRKegL_6ifTUqCab80edcDe5vLasldW2",
      "authorship_tag": "ABX9TyP7tLLBd06SHGTPVaD/rqxJ",
      "include_colab_link": true
    },
    "kernelspec": {
      "display_name": "Python 3",
      "name": "python3"
    },
    "language_info": {
      "name": "python"
    }
  },
  "nbformat": 4,
  "nbformat_minor": 0
}